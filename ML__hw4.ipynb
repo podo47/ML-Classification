{
  "nbformat": 4,
  "nbformat_minor": 0,
  "metadata": {
    "colab": {
      "provenance": [],
      "toc_visible": true,
      "mount_file_id": "12A81PbIA6bw4MFIQqavZske5BuiOF_8O",
      "authorship_tag": "ABX9TyPkXZeuCTo5KaSejpYZgO7h",
      "include_colab_link": true
    },
    "kernelspec": {
      "name": "python3",
      "display_name": "Python 3"
    },
    "language_info": {
      "name": "python"
    },
    "gpuClass": "standard"
  },
  "cells": [
    {
      "cell_type": "markdown",
      "metadata": {
        "id": "view-in-github",
        "colab_type": "text"
      },
      "source": [
        "<a href=\"https://colab.research.google.com/github/podo47/ML-Classification/blob/main/ML__hw4.ipynb\" target=\"_parent\"><img src=\"https://colab.research.google.com/assets/colab-badge.svg\" alt=\"Open In Colab\"/></a>"
      ]
    },
    {
      "cell_type": "markdown",
      "source": [
        "# Import libraries"
      ],
      "metadata": {
        "id": "pomk4OAk17Dt"
      }
    },
    {
      "cell_type": "code",
      "source": [
        "import numpy as np # linear algebra\n",
        "import pandas as pd # data processing, CSV file I/O (e.g. pd.read_csv)\n",
        "import matplotlib.pyplot as plt # for data visualization purposes\n",
        "import seaborn as sns # for statistical data visualization\n",
        "from collections import Counter\n",
        "%matplotlib inline"
      ],
      "metadata": {
        "id": "IR8sAKvS2J4u"
      },
      "execution_count": 1,
      "outputs": []
    },
    {
      "cell_type": "code",
      "source": [
        "import warnings\n",
        "warnings.filterwarnings('ignore')"
      ],
      "metadata": {
        "id": "sWjrgNAkKn5k"
      },
      "execution_count": 2,
      "outputs": []
    },
    {
      "cell_type": "markdown",
      "source": [
        "# Import data"
      ],
      "metadata": {
        "id": "nswSWBL45jVQ"
      }
    },
    {
      "cell_type": "code",
      "execution_count": 3,
      "metadata": {
        "id": "nTVjVd0d1hiH",
        "colab": {
          "base_uri": "https://localhost:8080/",
          "height": 299
        },
        "outputId": "73a69212-31d8-470f-df9c-dcda1b415693"
      },
      "outputs": [
        {
          "output_type": "execute_result",
          "data": {
            "text/plain": [
              "  policy_id  policy_tenure  age_of_car  age_of_policyholder area_cluster  \\\n",
              "0   ID00001       0.515874        0.05             0.644231           C1   \n",
              "1   ID00002       0.672619        0.02             0.375000           C2   \n",
              "2   ID00003       0.841110        0.02             0.384615           C3   \n",
              "3   ID00004       0.900277        0.11             0.432692           C4   \n",
              "4   ID00005       0.596403        0.11             0.634615           C5   \n",
              "\n",
              "   population_density  make segment model fuel_type  ... is_brake_assist  \\\n",
              "0                4990     1       A    M1       CNG  ...              No   \n",
              "1               27003     1       A    M1       CNG  ...              No   \n",
              "2                4076     1       A    M1       CNG  ...              No   \n",
              "3               21622     1      C1    M2    Petrol  ...             Yes   \n",
              "4               34738     2       A    M3    Petrol  ...              No   \n",
              "\n",
              "  is_power_door_locks is_central_locking  is_power_steering  \\\n",
              "0                  No                 No                Yes   \n",
              "1                  No                 No                Yes   \n",
              "2                  No                 No                Yes   \n",
              "3                 Yes                Yes                Yes   \n",
              "4                 Yes                Yes                Yes   \n",
              "\n",
              "  is_driver_seat_height_adjustable is_day_night_rear_view_mirror is_ecw  \\\n",
              "0                               No                            No     No   \n",
              "1                               No                            No     No   \n",
              "2                               No                            No     No   \n",
              "3                              Yes                           Yes    Yes   \n",
              "4                               No                           Yes    Yes   \n",
              "\n",
              "  is_speed_alert ncap_rating is_claim  \n",
              "0            Yes           0        0  \n",
              "1            Yes           0        0  \n",
              "2            Yes           0        0  \n",
              "3            Yes           2        0  \n",
              "4            Yes           2        0  \n",
              "\n",
              "[5 rows x 44 columns]"
            ],
            "text/html": [
              "\n",
              "  <div id=\"df-4d99f0a2-d9ea-486f-b983-c126858da3b6\">\n",
              "    <div class=\"colab-df-container\">\n",
              "      <div>\n",
              "<style scoped>\n",
              "    .dataframe tbody tr th:only-of-type {\n",
              "        vertical-align: middle;\n",
              "    }\n",
              "\n",
              "    .dataframe tbody tr th {\n",
              "        vertical-align: top;\n",
              "    }\n",
              "\n",
              "    .dataframe thead th {\n",
              "        text-align: right;\n",
              "    }\n",
              "</style>\n",
              "<table border=\"1\" class=\"dataframe\">\n",
              "  <thead>\n",
              "    <tr style=\"text-align: right;\">\n",
              "      <th></th>\n",
              "      <th>policy_id</th>\n",
              "      <th>policy_tenure</th>\n",
              "      <th>age_of_car</th>\n",
              "      <th>age_of_policyholder</th>\n",
              "      <th>area_cluster</th>\n",
              "      <th>population_density</th>\n",
              "      <th>make</th>\n",
              "      <th>segment</th>\n",
              "      <th>model</th>\n",
              "      <th>fuel_type</th>\n",
              "      <th>...</th>\n",
              "      <th>is_brake_assist</th>\n",
              "      <th>is_power_door_locks</th>\n",
              "      <th>is_central_locking</th>\n",
              "      <th>is_power_steering</th>\n",
              "      <th>is_driver_seat_height_adjustable</th>\n",
              "      <th>is_day_night_rear_view_mirror</th>\n",
              "      <th>is_ecw</th>\n",
              "      <th>is_speed_alert</th>\n",
              "      <th>ncap_rating</th>\n",
              "      <th>is_claim</th>\n",
              "    </tr>\n",
              "  </thead>\n",
              "  <tbody>\n",
              "    <tr>\n",
              "      <th>0</th>\n",
              "      <td>ID00001</td>\n",
              "      <td>0.515874</td>\n",
              "      <td>0.05</td>\n",
              "      <td>0.644231</td>\n",
              "      <td>C1</td>\n",
              "      <td>4990</td>\n",
              "      <td>1</td>\n",
              "      <td>A</td>\n",
              "      <td>M1</td>\n",
              "      <td>CNG</td>\n",
              "      <td>...</td>\n",
              "      <td>No</td>\n",
              "      <td>No</td>\n",
              "      <td>No</td>\n",
              "      <td>Yes</td>\n",
              "      <td>No</td>\n",
              "      <td>No</td>\n",
              "      <td>No</td>\n",
              "      <td>Yes</td>\n",
              "      <td>0</td>\n",
              "      <td>0</td>\n",
              "    </tr>\n",
              "    <tr>\n",
              "      <th>1</th>\n",
              "      <td>ID00002</td>\n",
              "      <td>0.672619</td>\n",
              "      <td>0.02</td>\n",
              "      <td>0.375000</td>\n",
              "      <td>C2</td>\n",
              "      <td>27003</td>\n",
              "      <td>1</td>\n",
              "      <td>A</td>\n",
              "      <td>M1</td>\n",
              "      <td>CNG</td>\n",
              "      <td>...</td>\n",
              "      <td>No</td>\n",
              "      <td>No</td>\n",
              "      <td>No</td>\n",
              "      <td>Yes</td>\n",
              "      <td>No</td>\n",
              "      <td>No</td>\n",
              "      <td>No</td>\n",
              "      <td>Yes</td>\n",
              "      <td>0</td>\n",
              "      <td>0</td>\n",
              "    </tr>\n",
              "    <tr>\n",
              "      <th>2</th>\n",
              "      <td>ID00003</td>\n",
              "      <td>0.841110</td>\n",
              "      <td>0.02</td>\n",
              "      <td>0.384615</td>\n",
              "      <td>C3</td>\n",
              "      <td>4076</td>\n",
              "      <td>1</td>\n",
              "      <td>A</td>\n",
              "      <td>M1</td>\n",
              "      <td>CNG</td>\n",
              "      <td>...</td>\n",
              "      <td>No</td>\n",
              "      <td>No</td>\n",
              "      <td>No</td>\n",
              "      <td>Yes</td>\n",
              "      <td>No</td>\n",
              "      <td>No</td>\n",
              "      <td>No</td>\n",
              "      <td>Yes</td>\n",
              "      <td>0</td>\n",
              "      <td>0</td>\n",
              "    </tr>\n",
              "    <tr>\n",
              "      <th>3</th>\n",
              "      <td>ID00004</td>\n",
              "      <td>0.900277</td>\n",
              "      <td>0.11</td>\n",
              "      <td>0.432692</td>\n",
              "      <td>C4</td>\n",
              "      <td>21622</td>\n",
              "      <td>1</td>\n",
              "      <td>C1</td>\n",
              "      <td>M2</td>\n",
              "      <td>Petrol</td>\n",
              "      <td>...</td>\n",
              "      <td>Yes</td>\n",
              "      <td>Yes</td>\n",
              "      <td>Yes</td>\n",
              "      <td>Yes</td>\n",
              "      <td>Yes</td>\n",
              "      <td>Yes</td>\n",
              "      <td>Yes</td>\n",
              "      <td>Yes</td>\n",
              "      <td>2</td>\n",
              "      <td>0</td>\n",
              "    </tr>\n",
              "    <tr>\n",
              "      <th>4</th>\n",
              "      <td>ID00005</td>\n",
              "      <td>0.596403</td>\n",
              "      <td>0.11</td>\n",
              "      <td>0.634615</td>\n",
              "      <td>C5</td>\n",
              "      <td>34738</td>\n",
              "      <td>2</td>\n",
              "      <td>A</td>\n",
              "      <td>M3</td>\n",
              "      <td>Petrol</td>\n",
              "      <td>...</td>\n",
              "      <td>No</td>\n",
              "      <td>Yes</td>\n",
              "      <td>Yes</td>\n",
              "      <td>Yes</td>\n",
              "      <td>No</td>\n",
              "      <td>Yes</td>\n",
              "      <td>Yes</td>\n",
              "      <td>Yes</td>\n",
              "      <td>2</td>\n",
              "      <td>0</td>\n",
              "    </tr>\n",
              "  </tbody>\n",
              "</table>\n",
              "<p>5 rows × 44 columns</p>\n",
              "</div>\n",
              "      <button class=\"colab-df-convert\" onclick=\"convertToInteractive('df-4d99f0a2-d9ea-486f-b983-c126858da3b6')\"\n",
              "              title=\"Convert this dataframe to an interactive table.\"\n",
              "              style=\"display:none;\">\n",
              "        \n",
              "  <svg xmlns=\"http://www.w3.org/2000/svg\" height=\"24px\"viewBox=\"0 0 24 24\"\n",
              "       width=\"24px\">\n",
              "    <path d=\"M0 0h24v24H0V0z\" fill=\"none\"/>\n",
              "    <path d=\"M18.56 5.44l.94 2.06.94-2.06 2.06-.94-2.06-.94-.94-2.06-.94 2.06-2.06.94zm-11 1L8.5 8.5l.94-2.06 2.06-.94-2.06-.94L8.5 2.5l-.94 2.06-2.06.94zm10 10l.94 2.06.94-2.06 2.06-.94-2.06-.94-.94-2.06-.94 2.06-2.06.94z\"/><path d=\"M17.41 7.96l-1.37-1.37c-.4-.4-.92-.59-1.43-.59-.52 0-1.04.2-1.43.59L10.3 9.45l-7.72 7.72c-.78.78-.78 2.05 0 2.83L4 21.41c.39.39.9.59 1.41.59.51 0 1.02-.2 1.41-.59l7.78-7.78 2.81-2.81c.8-.78.8-2.07 0-2.86zM5.41 20L4 18.59l7.72-7.72 1.47 1.35L5.41 20z\"/>\n",
              "  </svg>\n",
              "      </button>\n",
              "      \n",
              "  <style>\n",
              "    .colab-df-container {\n",
              "      display:flex;\n",
              "      flex-wrap:wrap;\n",
              "      gap: 12px;\n",
              "    }\n",
              "\n",
              "    .colab-df-convert {\n",
              "      background-color: #E8F0FE;\n",
              "      border: none;\n",
              "      border-radius: 50%;\n",
              "      cursor: pointer;\n",
              "      display: none;\n",
              "      fill: #1967D2;\n",
              "      height: 32px;\n",
              "      padding: 0 0 0 0;\n",
              "      width: 32px;\n",
              "    }\n",
              "\n",
              "    .colab-df-convert:hover {\n",
              "      background-color: #E2EBFA;\n",
              "      box-shadow: 0px 1px 2px rgba(60, 64, 67, 0.3), 0px 1px 3px 1px rgba(60, 64, 67, 0.15);\n",
              "      fill: #174EA6;\n",
              "    }\n",
              "\n",
              "    [theme=dark] .colab-df-convert {\n",
              "      background-color: #3B4455;\n",
              "      fill: #D2E3FC;\n",
              "    }\n",
              "\n",
              "    [theme=dark] .colab-df-convert:hover {\n",
              "      background-color: #434B5C;\n",
              "      box-shadow: 0px 1px 3px 1px rgba(0, 0, 0, 0.15);\n",
              "      filter: drop-shadow(0px 1px 2px rgba(0, 0, 0, 0.3));\n",
              "      fill: #FFFFFF;\n",
              "    }\n",
              "  </style>\n",
              "\n",
              "      <script>\n",
              "        const buttonEl =\n",
              "          document.querySelector('#df-4d99f0a2-d9ea-486f-b983-c126858da3b6 button.colab-df-convert');\n",
              "        buttonEl.style.display =\n",
              "          google.colab.kernel.accessAllowed ? 'block' : 'none';\n",
              "\n",
              "        async function convertToInteractive(key) {\n",
              "          const element = document.querySelector('#df-4d99f0a2-d9ea-486f-b983-c126858da3b6');\n",
              "          const dataTable =\n",
              "            await google.colab.kernel.invokeFunction('convertToInteractive',\n",
              "                                                     [key], {});\n",
              "          if (!dataTable) return;\n",
              "\n",
              "          const docLinkHtml = 'Like what you see? Visit the ' +\n",
              "            '<a target=\"_blank\" href=https://colab.research.google.com/notebooks/data_table.ipynb>data table notebook</a>'\n",
              "            + ' to learn more about interactive tables.';\n",
              "          element.innerHTML = '';\n",
              "          dataTable['output_type'] = 'display_data';\n",
              "          await google.colab.output.renderOutput(dataTable, element);\n",
              "          const docLink = document.createElement('div');\n",
              "          docLink.innerHTML = docLinkHtml;\n",
              "          element.appendChild(docLink);\n",
              "        }\n",
              "      </script>\n",
              "    </div>\n",
              "  </div>\n",
              "  "
            ]
          },
          "metadata": {},
          "execution_count": 3
        }
      ],
      "source": [
        "data=\"/content/drive/MyDrive/ML_hw4/train.csv\"\n",
        "train_df = pd.read_csv(data)\n",
        "train_df.head()"
      ]
    },
    {
      "cell_type": "markdown",
      "source": [
        "# Exploratory data analysis"
      ],
      "metadata": {
        "id": "A5kJNeOX_QSx"
      }
    },
    {
      "cell_type": "code",
      "source": [
        "# Printing the shape of the train dataset\n",
        "print(train_df.shape)"
      ],
      "metadata": {
        "colab": {
          "base_uri": "https://localhost:8080/"
        },
        "id": "5o5HNmgN_XEd",
        "outputId": "263d00ec-cbc5-4e5d-e4e9-157b839fbdd6"
      },
      "execution_count": 4,
      "outputs": [
        {
          "output_type": "stream",
          "name": "stdout",
          "text": [
            "(58592, 44)\n"
          ]
        }
      ]
    },
    {
      "cell_type": "code",
      "source": [
        "# View summary of the dataset\n",
        "train_df.info()"
      ],
      "metadata": {
        "colab": {
          "base_uri": "https://localhost:8080/"
        },
        "id": "1VlLuZ7l23HZ",
        "outputId": "3dfd3a6a-9bfd-4d23-8ab2-914f1157da0d"
      },
      "execution_count": 5,
      "outputs": [
        {
          "output_type": "stream",
          "name": "stdout",
          "text": [
            "<class 'pandas.core.frame.DataFrame'>\n",
            "RangeIndex: 58592 entries, 0 to 58591\n",
            "Data columns (total 44 columns):\n",
            " #   Column                            Non-Null Count  Dtype  \n",
            "---  ------                            --------------  -----  \n",
            " 0   policy_id                         58592 non-null  object \n",
            " 1   policy_tenure                     58592 non-null  float64\n",
            " 2   age_of_car                        58592 non-null  float64\n",
            " 3   age_of_policyholder               58592 non-null  float64\n",
            " 4   area_cluster                      58592 non-null  object \n",
            " 5   population_density                58592 non-null  int64  \n",
            " 6   make                              58592 non-null  int64  \n",
            " 7   segment                           58592 non-null  object \n",
            " 8   model                             58592 non-null  object \n",
            " 9   fuel_type                         58592 non-null  object \n",
            " 10  max_torque                        58592 non-null  object \n",
            " 11  max_power                         58592 non-null  object \n",
            " 12  engine_type                       58592 non-null  object \n",
            " 13  airbags                           58592 non-null  int64  \n",
            " 14  is_esc                            58592 non-null  object \n",
            " 15  is_adjustable_steering            58592 non-null  object \n",
            " 16  is_tpms                           58592 non-null  object \n",
            " 17  is_parking_sensors                58592 non-null  object \n",
            " 18  is_parking_camera                 58592 non-null  object \n",
            " 19  rear_brakes_type                  58592 non-null  object \n",
            " 20  displacement                      58592 non-null  int64  \n",
            " 21  cylinder                          58592 non-null  int64  \n",
            " 22  transmission_type                 58592 non-null  object \n",
            " 23  gear_box                          58592 non-null  int64  \n",
            " 24  steering_type                     58592 non-null  object \n",
            " 25  turning_radius                    58592 non-null  float64\n",
            " 26  length                            58592 non-null  int64  \n",
            " 27  width                             58592 non-null  int64  \n",
            " 28  height                            58592 non-null  int64  \n",
            " 29  gross_weight                      58592 non-null  int64  \n",
            " 30  is_front_fog_lights               58592 non-null  object \n",
            " 31  is_rear_window_wiper              58592 non-null  object \n",
            " 32  is_rear_window_washer             58592 non-null  object \n",
            " 33  is_rear_window_defogger           58592 non-null  object \n",
            " 34  is_brake_assist                   58592 non-null  object \n",
            " 35  is_power_door_locks               58592 non-null  object \n",
            " 36  is_central_locking                58592 non-null  object \n",
            " 37  is_power_steering                 58592 non-null  object \n",
            " 38  is_driver_seat_height_adjustable  58592 non-null  object \n",
            " 39  is_day_night_rear_view_mirror     58592 non-null  object \n",
            " 40  is_ecw                            58592 non-null  object \n",
            " 41  is_speed_alert                    58592 non-null  object \n",
            " 42  ncap_rating                       58592 non-null  int64  \n",
            " 43  is_claim                          58592 non-null  int64  \n",
            "dtypes: float64(4), int64(12), object(28)\n",
            "memory usage: 19.7+ MB\n"
          ]
        }
      ]
    },
    {
      "cell_type": "code",
      "source": [
        "# Check for missing values:\n",
        "train_df.isnull().sum()"
      ],
      "metadata": {
        "colab": {
          "base_uri": "https://localhost:8080/"
        },
        "id": "nhVuG-ICAjSY",
        "outputId": "78b11270-7c1e-4675-aacb-f9f6b90eca83"
      },
      "execution_count": 6,
      "outputs": [
        {
          "output_type": "execute_result",
          "data": {
            "text/plain": [
              "policy_id                           0\n",
              "policy_tenure                       0\n",
              "age_of_car                          0\n",
              "age_of_policyholder                 0\n",
              "area_cluster                        0\n",
              "population_density                  0\n",
              "make                                0\n",
              "segment                             0\n",
              "model                               0\n",
              "fuel_type                           0\n",
              "max_torque                          0\n",
              "max_power                           0\n",
              "engine_type                         0\n",
              "airbags                             0\n",
              "is_esc                              0\n",
              "is_adjustable_steering              0\n",
              "is_tpms                             0\n",
              "is_parking_sensors                  0\n",
              "is_parking_camera                   0\n",
              "rear_brakes_type                    0\n",
              "displacement                        0\n",
              "cylinder                            0\n",
              "transmission_type                   0\n",
              "gear_box                            0\n",
              "steering_type                       0\n",
              "turning_radius                      0\n",
              "length                              0\n",
              "width                               0\n",
              "height                              0\n",
              "gross_weight                        0\n",
              "is_front_fog_lights                 0\n",
              "is_rear_window_wiper                0\n",
              "is_rear_window_washer               0\n",
              "is_rear_window_defogger             0\n",
              "is_brake_assist                     0\n",
              "is_power_door_locks                 0\n",
              "is_central_locking                  0\n",
              "is_power_steering                   0\n",
              "is_driver_seat_height_adjustable    0\n",
              "is_day_night_rear_view_mirror       0\n",
              "is_ecw                              0\n",
              "is_speed_alert                      0\n",
              "ncap_rating                         0\n",
              "is_claim                            0\n",
              "dtype: int64"
            ]
          },
          "metadata": {},
          "execution_count": 6
        }
      ]
    },
    {
      "cell_type": "markdown",
      "source": [
        "**Explore categorical variables**"
      ],
      "metadata": {
        "id": "AED91TuJA2Yl"
      }
    },
    {
      "cell_type": "code",
      "source": [
        "categorical = train_df.select_dtypes(include =[object])\n",
        "print(\"There are {} categorical variables\".format(categorical.shape[1]))\n",
        "print('The categorical variables are :\\n',categorical.columns)"
      ],
      "metadata": {
        "colab": {
          "base_uri": "https://localhost:8080/"
        },
        "id": "yJzRN6__A5GC",
        "outputId": "b5512f05-a139-493d-c8e2-e907b9fcb775"
      },
      "execution_count": 7,
      "outputs": [
        {
          "output_type": "stream",
          "name": "stdout",
          "text": [
            "There are 28 categorical variables\n",
            "The categorical variables are :\n",
            " Index(['policy_id', 'area_cluster', 'segment', 'model', 'fuel_type',\n",
            "       'max_torque', 'max_power', 'engine_type', 'is_esc',\n",
            "       'is_adjustable_steering', 'is_tpms', 'is_parking_sensors',\n",
            "       'is_parking_camera', 'rear_brakes_type', 'transmission_type',\n",
            "       'steering_type', 'is_front_fog_lights', 'is_rear_window_wiper',\n",
            "       'is_rear_window_washer', 'is_rear_window_defogger', 'is_brake_assist',\n",
            "       'is_power_door_locks', 'is_central_locking', 'is_power_steering',\n",
            "       'is_driver_seat_height_adjustable', 'is_day_night_rear_view_mirror',\n",
            "       'is_ecw', 'is_speed_alert'],\n",
            "      dtype='object')\n"
          ]
        }
      ]
    },
    {
      "cell_type": "markdown",
      "source": [
        "**Explore numerical variables**"
      ],
      "metadata": {
        "id": "bkis7AJAIgTY"
      }
    },
    {
      "cell_type": "code",
      "source": [
        "numerical = train_df.select_dtypes(include =[np.float64,np.int64])\n",
        "print(\"There are {} numerical variables\".format(numerical.shape[1]))\n",
        "print('The numerical variables are :\\n',numerical.columns)"
      ],
      "metadata": {
        "colab": {
          "base_uri": "https://localhost:8080/"
        },
        "id": "F-N43nzCDRvC",
        "outputId": "118ae395-b557-43ad-e214-f4d57a1b0dc0"
      },
      "execution_count": 8,
      "outputs": [
        {
          "output_type": "stream",
          "name": "stdout",
          "text": [
            "There are 16 numerical variables\n",
            "The numerical variables are :\n",
            " Index(['policy_tenure', 'age_of_car', 'age_of_policyholder',\n",
            "       'population_density', 'make', 'airbags', 'displacement', 'cylinder',\n",
            "       'gear_box', 'turning_radius', 'length', 'width', 'height',\n",
            "       'gross_weight', 'ncap_rating', 'is_claim'],\n",
            "      dtype='object')\n"
          ]
        }
      ]
    },
    {
      "cell_type": "markdown",
      "source": [
        "**Check if data is imbalanced**"
      ],
      "metadata": {
        "id": "izeWdJu0JnKX"
      }
    },
    {
      "cell_type": "code",
      "source": [
        "print(train_df.is_claim.value_counts())\n",
        "sns.barplot(x = [0, 1], y = [54844, 3784])"
      ],
      "metadata": {
        "colab": {
          "base_uri": "https://localhost:8080/",
          "height": 334
        },
        "id": "75o3uHN_KCB1",
        "outputId": "ef685d98-5b70-4566-a092-3b3bcbb6327e"
      },
      "execution_count": 9,
      "outputs": [
        {
          "output_type": "stream",
          "name": "stdout",
          "text": [
            "0    54844\n",
            "1     3748\n",
            "Name: is_claim, dtype: int64\n"
          ]
        },
        {
          "output_type": "execute_result",
          "data": {
            "text/plain": [
              "<matplotlib.axes._subplots.AxesSubplot at 0x7f0e90319160>"
            ]
          },
          "metadata": {},
          "execution_count": 9
        },
        {
          "output_type": "display_data",
          "data": {
            "text/plain": [
              "<Figure size 432x288 with 1 Axes>"
            ],
            "image/png": "[encoded data removed]"
          },
          "metadata": {
            "needs_background": "light"
          }
        }
      ]
    },
    {
      "cell_type": "markdown",
      "source": [
        "# Data preprocessing"
      ],
      "metadata": {
        "id": "v_UzkFokMrxz"
      }
    },
    {
      "cell_type": "markdown",
      "source": [
        "**Drop useless features**"
      ],
      "metadata": {
        "id": "Fp-z53CMnmGc"
      }
    },
    {
      "cell_type": "code",
      "source": [
        "train = train_df.copy()\n",
        "train.drop(['policy_id'], axis=1, inplace=True)"
      ],
      "metadata": {
        "id": "nftKdmpSNDJi"
      },
      "execution_count": 10,
      "outputs": []
    },
    {
      "cell_type": "markdown",
      "source": [
        "**Label Encoding**"
      ],
      "metadata": {
        "id": "z0xQgfLBm90q"
      }
    },
    {
      "cell_type": "code",
      "source": [
        "# Ordinal variables\n",
        "train['transmission_type'] = train['transmission_type'].map({'Manual': 0, 'Automatic': 1})\n",
        "train['steering_type'] = train['steering_type'].map({'Manual': 0, 'Power': 1, 'Electric': 2})\n",
        "\n",
        "train[['max_torque_Nm','max_torque_rpm']] = train[\"max_torque\"].apply(lambda n: pd.Series(str(n).split(\"@\")))\n",
        "train.drop([\"max_torque\"], axis=1, inplace= True)\n",
        "train['max_torque_Nm'] = train['max_torque_Nm'].str[:-2].astype(float)\n",
        "train['max_torque_rpm'] = train['max_torque_rpm'].str[:-3].astype(int)\n",
        "\n",
        "train[['max_power_bhp','max_power_rpm']] = train[\"max_power\"].apply(lambda n: pd.Series(str(n).split(\"@\")))\n",
        "train.drop([\"max_power\"], axis=1, inplace= True)\n",
        "train['max_power_rpm'] = train['max_power_rpm'].str[:-3].astype(int)\n",
        "train['max_power_bhp'] = train['max_power_bhp'].str[:-3].astype(float)"
      ],
      "metadata": {
        "id": "dLQi0suXm8zC"
      },
      "execution_count": 11,
      "outputs": []
    },
    {
      "cell_type": "markdown",
      "source": [
        "**One-hot Encoding**"
      ],
      "metadata": {
        "id": "xiV9RkhnoF-F"
      }
    },
    {
      "cell_type": "code",
      "source": [
        "train = pd.get_dummies(train, drop_first=True)"
      ],
      "metadata": {
        "id": "X8q73q7l7slS"
      },
      "execution_count": 12,
      "outputs": []
    },
    {
      "cell_type": "code",
      "source": [
        "train.head()"
      ],
      "metadata": {
        "colab": {
          "base_uri": "https://localhost:8080/",
          "height": 299
        },
        "id": "HU4SyKQqDdBa",
        "outputId": "0e00e9a9-ce56-4203-df02-f3be9dd6370c"
      },
      "execution_count": 13,
      "outputs": [
        {
          "output_type": "execute_result",
          "data": {
            "text/plain": [
              "   policy_tenure  age_of_car  age_of_policyholder  population_density  make  \\\n",
              "0       0.515874        0.05             0.644231                4990     1   \n",
              "1       0.672619        0.02             0.375000               27003     1   \n",
              "2       0.841110        0.02             0.384615                4076     1   \n",
              "3       0.900277        0.11             0.432692               21622     1   \n",
              "4       0.596403        0.11             0.634615               34738     2   \n",
              "\n",
              "   airbags  displacement  cylinder  transmission_type  gear_box  ...  \\\n",
              "0        2           796         3                  0         5  ...   \n",
              "1        2           796         3                  0         5  ...   \n",
              "2        2           796         3                  0         5  ...   \n",
              "3        2          1197         4                  1         5  ...   \n",
              "4        2           999         3                  1         5  ...   \n",
              "\n",
              "   is_rear_window_washer_Yes  is_rear_window_defogger_Yes  \\\n",
              "0                          0                            0   \n",
              "1                          0                            0   \n",
              "2                          0                            0   \n",
              "3                          0                            1   \n",
              "4                          0                            0   \n",
              "\n",
              "   is_brake_assist_Yes  is_power_door_locks_Yes  is_central_locking_Yes  \\\n",
              "0                    0                        0                       0   \n",
              "1                    0                        0                       0   \n",
              "2                    0                        0                       0   \n",
              "3                    1                        1                       1   \n",
              "4                    0                        1                       1   \n",
              "\n",
              "   is_power_steering_Yes  is_driver_seat_height_adjustable_Yes  \\\n",
              "0                      1                                     0   \n",
              "1                      1                                     0   \n",
              "2                      1                                     0   \n",
              "3                      1                                     1   \n",
              "4                      1                                     0   \n",
              "\n",
              "   is_day_night_rear_view_mirror_Yes  is_ecw_Yes  is_speed_alert_Yes  \n",
              "0                                  0           0                   1  \n",
              "1                                  0           0                   1  \n",
              "2                                  0           0                   1  \n",
              "3                                  1           1                   1  \n",
              "4                                  1           1                   1  \n",
              "\n",
              "[5 rows x 88 columns]"
            ],
            "text/html": [
              "\n",
              "  <div id=\"df-aeca7975-a88c-49b1-8c79-b3cdf1ef0054\">\n",
              "    <div class=\"colab-df-container\">\n",
              "      <div>\n",
              "<style scoped>\n",
              "    .dataframe tbody tr th:only-of-type {\n",
              "        vertical-align: middle;\n",
              "    }\n",
              "\n",
              "    .dataframe tbody tr th {\n",
              "        vertical-align: top;\n",
              "    }\n",
              "\n",
              "    .dataframe thead th {\n",
              "        text-align: right;\n",
              "    }\n",
              "</style>\n",
              "<table border=\"1\" class=\"dataframe\">\n",
              "  <thead>\n",
              "    <tr style=\"text-align: right;\">\n",
              "      <th></th>\n",
              "      <th>policy_tenure</th>\n",
              "      <th>age_of_car</th>\n",
              "      <th>age_of_policyholder</th>\n",
              "      <th>population_density</th>\n",
              "      <th>make</th>\n",
              "      <th>airbags</th>\n",
              "      <th>displacement</th>\n",
              "      <th>cylinder</th>\n",
              "      <th>transmission_type</th>\n",
              "      <th>gear_box</th>\n",
              "      <th>...</th>\n",
              "      <th>is_rear_window_washer_Yes</th>\n",
              "      <th>is_rear_window_defogger_Yes</th>\n",
              "      <th>is_brake_assist_Yes</th>\n",
              "      <th>is_power_door_locks_Yes</th>\n",
              "      <th>is_central_locking_Yes</th>\n",
              "      <th>is_power_steering_Yes</th>\n",
              "      <th>is_driver_seat_height_adjustable_Yes</th>\n",
              "      <th>is_day_night_rear_view_mirror_Yes</th>\n",
              "      <th>is_ecw_Yes</th>\n",
              "      <th>is_speed_alert_Yes</th>\n",
              "    </tr>\n",
              "  </thead>\n",
              "  <tbody>\n",
              "    <tr>\n",
              "      <th>0</th>\n",
              "      <td>0.515874</td>\n",
              "      <td>0.05</td>\n",
              "      <td>0.644231</td>\n",
              "      <td>4990</td>\n",
              "      <td>1</td>\n",
              "      <td>2</td>\n",
              "      <td>796</td>\n",
              "      <td>3</td>\n",
              "      <td>0</td>\n",
              "      <td>5</td>\n",
              "      <td>...</td>\n",
              "      <td>0</td>\n",
              "      <td>0</td>\n",
              "      <td>0</td>\n",
              "      <td>0</td>\n",
              "      <td>0</td>\n",
              "      <td>1</td>\n",
              "      <td>0</td>\n",
              "      <td>0</td>\n",
              "      <td>0</td>\n",
              "      <td>1</td>\n",
              "    </tr>\n",
              "    <tr>\n",
              "      <th>1</th>\n",
              "      <td>0.672619</td>\n",
              "      <td>0.02</td>\n",
              "      <td>0.375000</td>\n",
              "      <td>27003</td>\n",
              "      <td>1</td>\n",
              "      <td>2</td>\n",
              "      <td>796</td>\n",
              "      <td>3</td>\n",
              "      <td>0</td>\n",
              "      <td>5</td>\n",
              "      <td>...</td>\n",
              "      <td>0</td>\n",
              "      <td>0</td>\n",
              "      <td>0</td>\n",
              "      <td>0</td>\n",
              "      <td>0</td>\n",
              "      <td>1</td>\n",
              "      <td>0</td>\n",
              "      <td>0</td>\n",
              "      <td>0</td>\n",
              "      <td>1</td>\n",
              "    </tr>\n",
              "    <tr>\n",
              "      <th>2</th>\n",
              "      <td>0.841110</td>\n",
              "      <td>0.02</td>\n",
              "      <td>0.384615</td>\n",
              "      <td>4076</td>\n",
              "      <td>1</td>\n",
              "      <td>2</td>\n",
              "      <td>796</td>\n",
              "      <td>3</td>\n",
              "      <td>0</td>\n",
              "      <td>5</td>\n",
              "      <td>...</td>\n",
              "      <td>0</td>\n",
              "      <td>0</td>\n",
              "      <td>0</td>\n",
              "      <td>0</td>\n",
              "      <td>0</td>\n",
              "      <td>1</td>\n",
              "      <td>0</td>\n",
              "      <td>0</td>\n",
              "      <td>0</td>\n",
              "      <td>1</td>\n",
              "    </tr>\n",
              "    <tr>\n",
              "      <th>3</th>\n",
              "      <td>0.900277</td>\n",
              "      <td>0.11</td>\n",
              "      <td>0.432692</td>\n",
              "      <td>21622</td>\n",
              "      <td>1</td>\n",
              "      <td>2</td>\n",
              "      <td>1197</td>\n",
              "      <td>4</td>\n",
              "      <td>1</td>\n",
              "      <td>5</td>\n",
              "      <td>...</td>\n",
              "      <td>0</td>\n",
              "      <td>1</td>\n",
              "      <td>1</td>\n",
              "      <td>1</td>\n",
              "      <td>1</td>\n",
              "      <td>1</td>\n",
              "      <td>1</td>\n",
              "      <td>1</td>\n",
              "      <td>1</td>\n",
              "      <td>1</td>\n",
              "    </tr>\n",
              "    <tr>\n",
              "      <th>4</th>\n",
              "      <td>0.596403</td>\n",
              "      <td>0.11</td>\n",
              "      <td>0.634615</td>\n",
              "      <td>34738</td>\n",
              "      <td>2</td>\n",
              "      <td>2</td>\n",
              "      <td>999</td>\n",
              "      <td>3</td>\n",
              "      <td>1</td>\n",
              "      <td>5</td>\n",
              "      <td>...</td>\n",
              "      <td>0</td>\n",
              "      <td>0</td>\n",
              "      <td>0</td>\n",
              "      <td>1</td>\n",
              "      <td>1</td>\n",
              "      <td>1</td>\n",
              "      <td>0</td>\n",
              "      <td>1</td>\n",
              "      <td>1</td>\n",
              "      <td>1</td>\n",
              "    </tr>\n",
              "  </tbody>\n",
              "</table>\n",
              "<p>5 rows × 88 columns</p>\n",
              "</div>\n",
              "      <button class=\"colab-df-convert\" onclick=\"convertToInteractive('df-aeca7975-a88c-49b1-8c79-b3cdf1ef0054')\"\n",
              "              title=\"Convert this dataframe to an interactive table.\"\n",
              "              style=\"display:none;\">\n",
              "        \n",
              "  <svg xmlns=\"http://www.w3.org/2000/svg\" height=\"24px\"viewBox=\"0 0 24 24\"\n",
              "       width=\"24px\">\n",
              "    <path d=\"M0 0h24v24H0V0z\" fill=\"none\"/>\n",
              "    <path d=\"M18.56 5.44l.94 2.06.94-2.06 2.06-.94-2.06-.94-.94-2.06-.94 2.06-2.06.94zm-11 1L8.5 8.5l.94-2.06 2.06-.94-2.06-.94L8.5 2.5l-.94 2.06-2.06.94zm10 10l.94 2.06.94-2.06 2.06-.94-2.06-.94-.94-2.06-.94 2.06-2.06.94z\"/><path d=\"M17.41 7.96l-1.37-1.37c-.4-.4-.92-.59-1.43-.59-.52 0-1.04.2-1.43.59L10.3 9.45l-7.72 7.72c-.78.78-.78 2.05 0 2.83L4 21.41c.39.39.9.59 1.41.59.51 0 1.02-.2 1.41-.59l7.78-7.78 2.81-2.81c.8-.78.8-2.07 0-2.86zM5.41 20L4 18.59l7.72-7.72 1.47 1.35L5.41 20z\"/>\n",
              "  </svg>\n",
              "      </button>\n",
              "      \n",
              "  <style>\n",
              "    .colab-df-container {\n",
              "      display:flex;\n",
              "      flex-wrap:wrap;\n",
              "      gap: 12px;\n",
              "    }\n",
              "\n",
              "    .colab-df-convert {\n",
              "      background-color: #E8F0FE;\n",
              "      border: none;\n",
              "      border-radius: 50%;\n",
              "      cursor: pointer;\n",
              "      display: none;\n",
              "      fill: #1967D2;\n",
              "      height: 32px;\n",
              "      padding: 0 0 0 0;\n",
              "      width: 32px;\n",
              "    }\n",
              "\n",
              "    .colab-df-convert:hover {\n",
              "      background-color: #E2EBFA;\n",
              "      box-shadow: 0px 1px 2px rgba(60, 64, 67, 0.3), 0px 1px 3px 1px rgba(60, 64, 67, 0.15);\n",
              "      fill: #174EA6;\n",
              "    }\n",
              "\n",
              "    [theme=dark] .colab-df-convert {\n",
              "      background-color: #3B4455;\n",
              "      fill: #D2E3FC;\n",
              "    }\n",
              "\n",
              "    [theme=dark] .colab-df-convert:hover {\n",
              "      background-color: #434B5C;\n",
              "      box-shadow: 0px 1px 3px 1px rgba(0, 0, 0, 0.15);\n",
              "      filter: drop-shadow(0px 1px 2px rgba(0, 0, 0, 0.3));\n",
              "      fill: #FFFFFF;\n",
              "    }\n",
              "  </style>\n",
              "\n",
              "      <script>\n",
              "        const buttonEl =\n",
              "          document.querySelector('#df-aeca7975-a88c-49b1-8c79-b3cdf1ef0054 button.colab-df-convert');\n",
              "        buttonEl.style.display =\n",
              "          google.colab.kernel.accessAllowed ? 'block' : 'none';\n",
              "\n",
              "        async function convertToInteractive(key) {\n",
              "          const element = document.querySelector('#df-aeca7975-a88c-49b1-8c79-b3cdf1ef0054');\n",
              "          const dataTable =\n",
              "            await google.colab.kernel.invokeFunction('convertToInteractive',\n",
              "                                                     [key], {});\n",
              "          if (!dataTable) return;\n",
              "\n",
              "          const docLinkHtml = 'Like what you see? Visit the ' +\n",
              "            '<a target=\"_blank\" href=https://colab.research.google.com/notebooks/data_table.ipynb>data table notebook</a>'\n",
              "            + ' to learn more about interactive tables.';\n",
              "          element.innerHTML = '';\n",
              "          dataTable['output_type'] = 'display_data';\n",
              "          await google.colab.output.renderOutput(dataTable, element);\n",
              "          const docLink = document.createElement('div');\n",
              "          docLink.innerHTML = docLinkHtml;\n",
              "          element.appendChild(docLink);\n",
              "        }\n",
              "      </script>\n",
              "    </div>\n",
              "  </div>\n",
              "  "
            ]
          },
          "metadata": {},
          "execution_count": 13
        }
      ]
    },
    {
      "cell_type": "markdown",
      "source": [
        "**Train test split**"
      ],
      "metadata": {
        "id": "MMGRgMzIJa5f"
      }
    },
    {
      "cell_type": "code",
      "source": [
        "# Shuffle dataset \n",
        "shuffle_train = train.sample(frac=1,random_state=1).reset_index(drop=True)\n",
        "\n",
        "# Define size for train set \n",
        "train_size = int(0.7 * len(train))\n",
        "\n",
        "# Split dataset \n",
        "train_set = shuffle_train[:train_size]\n",
        "test_set = shuffle_train[train_size:]"
      ],
      "metadata": {
        "id": "XLPqpEDkJdPi"
      },
      "execution_count": 14,
      "outputs": []
    },
    {
      "cell_type": "code",
      "source": [
        "train_set.head()"
      ],
      "metadata": {
        "colab": {
          "base_uri": "https://localhost:8080/",
          "height": 299
        },
        "id": "Owl42VsxKHea",
        "outputId": "63054db7-cc82-4025-ac2c-50c7d3bc7004"
      },
      "execution_count": 15,
      "outputs": [
        {
          "output_type": "execute_result",
          "data": {
            "text/plain": [
              "   policy_tenure  age_of_car  age_of_policyholder  population_density  make  \\\n",
              "0       0.429286        0.06             0.365385                6112     1   \n",
              "1       1.208874        0.10             0.423077                4076     2   \n",
              "2       0.518087        0.11             0.298077               34738     1   \n",
              "3       0.700774        0.14             0.442308                7788     1   \n",
              "4       0.893027        0.07             0.461538                8794     3   \n",
              "\n",
              "   airbags  displacement  cylinder  transmission_type  gear_box  ...  \\\n",
              "0        2          1197         4                  0         5  ...   \n",
              "1        2           999         3                  1         5  ...   \n",
              "2        2          1197         4                  0         5  ...   \n",
              "3        2           998         3                  0         5  ...   \n",
              "4        6          1493         4                  1         6  ...   \n",
              "\n",
              "   is_rear_window_washer_Yes  is_rear_window_defogger_Yes  \\\n",
              "0                          0                            0   \n",
              "1                          0                            0   \n",
              "2                          0                            0   \n",
              "3                          0                            0   \n",
              "4                          1                            1   \n",
              "\n",
              "   is_brake_assist_Yes  is_power_door_locks_Yes  is_central_locking_Yes  \\\n",
              "0                    1                        1                       1   \n",
              "1                    0                        1                       1   \n",
              "2                    1                        1                       1   \n",
              "3                    0                        1                       1   \n",
              "4                    1                        1                       1   \n",
              "\n",
              "   is_power_steering_Yes  is_driver_seat_height_adjustable_Yes  \\\n",
              "0                      1                                     1   \n",
              "1                      1                                     0   \n",
              "2                      1                                     1   \n",
              "3                      1                                     0   \n",
              "4                      1                                     1   \n",
              "\n",
              "   is_day_night_rear_view_mirror_Yes  is_ecw_Yes  is_speed_alert_Yes  \n",
              "0                                  1           1                   1  \n",
              "1                                  1           1                   1  \n",
              "2                                  1           1                   1  \n",
              "3                                  0           1                   1  \n",
              "4                                  0           1                   1  \n",
              "\n",
              "[5 rows x 88 columns]"
            ],
            "text/html": [
              "\n",
              "  <div id=\"df-0e6e04f6-994f-496a-b620-06a9252c0266\">\n",
              "    <div class=\"colab-df-container\">\n",
              "      <div>\n",
              "<style scoped>\n",
              "    .dataframe tbody tr th:only-of-type {\n",
              "        vertical-align: middle;\n",
              "    }\n",
              "\n",
              "    .dataframe tbody tr th {\n",
              "        vertical-align: top;\n",
              "    }\n",
              "\n",
              "    .dataframe thead th {\n",
              "        text-align: right;\n",
              "    }\n",
              "</style>\n",
              "<table border=\"1\" class=\"dataframe\">\n",
              "  <thead>\n",
              "    <tr style=\"text-align: right;\">\n",
              "      <th></th>\n",
              "      <th>policy_tenure</th>\n",
              "      <th>age_of_car</th>\n",
              "      <th>age_of_policyholder</th>\n",
              "      <th>population_density</th>\n",
              "      <th>make</th>\n",
              "      <th>airbags</th>\n",
              "      <th>displacement</th>\n",
              "      <th>cylinder</th>\n",
              "      <th>transmission_type</th>\n",
              "      <th>gear_box</th>\n",
              "      <th>...</th>\n",
              "      <th>is_rear_window_washer_Yes</th>\n",
              "      <th>is_rear_window_defogger_Yes</th>\n",
              "      <th>is_brake_assist_Yes</th>\n",
              "      <th>is_power_door_locks_Yes</th>\n",
              "      <th>is_central_locking_Yes</th>\n",
              "      <th>is_power_steering_Yes</th>\n",
              "      <th>is_driver_seat_height_adjustable_Yes</th>\n",
              "      <th>is_day_night_rear_view_mirror_Yes</th>\n",
              "      <th>is_ecw_Yes</th>\n",
              "      <th>is_speed_alert_Yes</th>\n",
              "    </tr>\n",
              "  </thead>\n",
              "  <tbody>\n",
              "    <tr>\n",
              "      <th>0</th>\n",
              "      <td>0.429286</td>\n",
              "      <td>0.06</td>\n",
              "      <td>0.365385</td>\n",
              "      <td>6112</td>\n",
              "      <td>1</td>\n",
              "      <td>2</td>\n",
              "      <td>1197</td>\n",
              "      <td>4</td>\n",
              "      <td>0</td>\n",
              "      <td>5</td>\n",
              "      <td>...</td>\n",
              "      <td>0</td>\n",
              "      <td>0</td>\n",
              "      <td>1</td>\n",
              "      <td>1</td>\n",
              "      <td>1</td>\n",
              "      <td>1</td>\n",
              "      <td>1</td>\n",
              "      <td>1</td>\n",
              "      <td>1</td>\n",
              "      <td>1</td>\n",
              "    </tr>\n",
              "    <tr>\n",
              "      <th>1</th>\n",
              "      <td>1.208874</td>\n",
              "      <td>0.10</td>\n",
              "      <td>0.423077</td>\n",
              "      <td>4076</td>\n",
              "      <td>2</td>\n",
              "      <td>2</td>\n",
              "      <td>999</td>\n",
              "      <td>3</td>\n",
              "      <td>1</td>\n",
              "      <td>5</td>\n",
              "      <td>...</td>\n",
              "      <td>0</td>\n",
              "      <td>0</td>\n",
              "      <td>0</td>\n",
              "      <td>1</td>\n",
              "      <td>1</td>\n",
              "      <td>1</td>\n",
              "      <td>0</td>\n",
              "      <td>1</td>\n",
              "      <td>1</td>\n",
              "      <td>1</td>\n",
              "    </tr>\n",
              "    <tr>\n",
              "      <th>2</th>\n",
              "      <td>0.518087</td>\n",
              "      <td>0.11</td>\n",
              "      <td>0.298077</td>\n",
              "      <td>34738</td>\n",
              "      <td>1</td>\n",
              "      <td>2</td>\n",
              "      <td>1197</td>\n",
              "      <td>4</td>\n",
              "      <td>0</td>\n",
              "      <td>5</td>\n",
              "      <td>...</td>\n",
              "      <td>0</td>\n",
              "      <td>0</td>\n",
              "      <td>1</td>\n",
              "      <td>1</td>\n",
              "      <td>1</td>\n",
              "      <td>1</td>\n",
              "      <td>1</td>\n",
              "      <td>1</td>\n",
              "      <td>1</td>\n",
              "      <td>1</td>\n",
              "    </tr>\n",
              "    <tr>\n",
              "      <th>3</th>\n",
              "      <td>0.700774</td>\n",
              "      <td>0.14</td>\n",
              "      <td>0.442308</td>\n",
              "      <td>7788</td>\n",
              "      <td>1</td>\n",
              "      <td>2</td>\n",
              "      <td>998</td>\n",
              "      <td>3</td>\n",
              "      <td>0</td>\n",
              "      <td>5</td>\n",
              "      <td>...</td>\n",
              "      <td>0</td>\n",
              "      <td>0</td>\n",
              "      <td>0</td>\n",
              "      <td>1</td>\n",
              "      <td>1</td>\n",
              "      <td>1</td>\n",
              "      <td>0</td>\n",
              "      <td>0</td>\n",
              "      <td>1</td>\n",
              "      <td>1</td>\n",
              "    </tr>\n",
              "    <tr>\n",
              "      <th>4</th>\n",
              "      <td>0.893027</td>\n",
              "      <td>0.07</td>\n",
              "      <td>0.461538</td>\n",
              "      <td>8794</td>\n",
              "      <td>3</td>\n",
              "      <td>6</td>\n",
              "      <td>1493</td>\n",
              "      <td>4</td>\n",
              "      <td>1</td>\n",
              "      <td>6</td>\n",
              "      <td>...</td>\n",
              "      <td>1</td>\n",
              "      <td>1</td>\n",
              "      <td>1</td>\n",
              "      <td>1</td>\n",
              "      <td>1</td>\n",
              "      <td>1</td>\n",
              "      <td>1</td>\n",
              "      <td>0</td>\n",
              "      <td>1</td>\n",
              "      <td>1</td>\n",
              "    </tr>\n",
              "  </tbody>\n",
              "</table>\n",
              "<p>5 rows × 88 columns</p>\n",
              "</div>\n",
              "      <button class=\"colab-df-convert\" onclick=\"convertToInteractive('df-0e6e04f6-994f-496a-b620-06a9252c0266')\"\n",
              "              title=\"Convert this dataframe to an interactive table.\"\n",
              "              style=\"display:none;\">\n",
              "        \n",
              "  <svg xmlns=\"http://www.w3.org/2000/svg\" height=\"24px\"viewBox=\"0 0 24 24\"\n",
              "       width=\"24px\">\n",
              "    <path d=\"M0 0h24v24H0V0z\" fill=\"none\"/>\n",
              "    <path d=\"M18.56 5.44l.94 2.06.94-2.06 2.06-.94-2.06-.94-.94-2.06-.94 2.06-2.06.94zm-11 1L8.5 8.5l.94-2.06 2.06-.94-2.06-.94L8.5 2.5l-.94 2.06-2.06.94zm10 10l.94 2.06.94-2.06 2.06-.94-2.06-.94-.94-2.06-.94 2.06-2.06.94z\"/><path d=\"M17.41 7.96l-1.37-1.37c-.4-.4-.92-.59-1.43-.59-.52 0-1.04.2-1.43.59L10.3 9.45l-7.72 7.72c-.78.78-.78 2.05 0 2.83L4 21.41c.39.39.9.59 1.41.59.51 0 1.02-.2 1.41-.59l7.78-7.78 2.81-2.81c.8-.78.8-2.07 0-2.86zM5.41 20L4 18.59l7.72-7.72 1.47 1.35L5.41 20z\"/>\n",
              "  </svg>\n",
              "      </button>\n",
              "      \n",
              "  <style>\n",
              "    .colab-df-container {\n",
              "      display:flex;\n",
              "      flex-wrap:wrap;\n",
              "      gap: 12px;\n",
              "    }\n",
              "\n",
              "    .colab-df-convert {\n",
              "      background-color: #E8F0FE;\n",
              "      border: none;\n",
              "      border-radius: 50%;\n",
              "      cursor: pointer;\n",
              "      display: none;\n",
              "      fill: #1967D2;\n",
              "      height: 32px;\n",
              "      padding: 0 0 0 0;\n",
              "      width: 32px;\n",
              "    }\n",
              "\n",
              "    .colab-df-convert:hover {\n",
              "      background-color: #E2EBFA;\n",
              "      box-shadow: 0px 1px 2px rgba(60, 64, 67, 0.3), 0px 1px 3px 1px rgba(60, 64, 67, 0.15);\n",
              "      fill: #174EA6;\n",
              "    }\n",
              "\n",
              "    [theme=dark] .colab-df-convert {\n",
              "      background-color: #3B4455;\n",
              "      fill: #D2E3FC;\n",
              "    }\n",
              "\n",
              "    [theme=dark] .colab-df-convert:hover {\n",
              "      background-color: #434B5C;\n",
              "      box-shadow: 0px 1px 3px 1px rgba(0, 0, 0, 0.15);\n",
              "      filter: drop-shadow(0px 1px 2px rgba(0, 0, 0, 0.3));\n",
              "      fill: #FFFFFF;\n",
              "    }\n",
              "  </style>\n",
              "\n",
              "      <script>\n",
              "        const buttonEl =\n",
              "          document.querySelector('#df-0e6e04f6-994f-496a-b620-06a9252c0266 button.colab-df-convert');\n",
              "        buttonEl.style.display =\n",
              "          google.colab.kernel.accessAllowed ? 'block' : 'none';\n",
              "\n",
              "        async function convertToInteractive(key) {\n",
              "          const element = document.querySelector('#df-0e6e04f6-994f-496a-b620-06a9252c0266');\n",
              "          const dataTable =\n",
              "            await google.colab.kernel.invokeFunction('convertToInteractive',\n",
              "                                                     [key], {});\n",
              "          if (!dataTable) return;\n",
              "\n",
              "          const docLinkHtml = 'Like what you see? Visit the ' +\n",
              "            '<a target=\"_blank\" href=https://colab.research.google.com/notebooks/data_table.ipynb>data table notebook</a>'\n",
              "            + ' to learn more about interactive tables.';\n",
              "          element.innerHTML = '';\n",
              "          dataTable['output_type'] = 'display_data';\n",
              "          await google.colab.output.renderOutput(dataTable, element);\n",
              "          const docLink = document.createElement('div');\n",
              "          docLink.innerHTML = docLinkHtml;\n",
              "          element.appendChild(docLink);\n",
              "        }\n",
              "      </script>\n",
              "    </div>\n",
              "  </div>\n",
              "  "
            ]
          },
          "metadata": {},
          "execution_count": 15
        }
      ]
    },
    {
      "cell_type": "code",
      "source": [
        "train_set.shape,test_set.shape"
      ],
      "metadata": {
        "colab": {
          "base_uri": "https://localhost:8080/"
        },
        "id": "-iA6qCgiK2A-",
        "outputId": "7243bebd-c0f3-496c-ac3c-15bbc1810ae8"
      },
      "execution_count": 16,
      "outputs": [
        {
          "output_type": "execute_result",
          "data": {
            "text/plain": [
              "((41014, 88), (17578, 88))"
            ]
          },
          "metadata": {},
          "execution_count": 16
        }
      ]
    },
    {
      "cell_type": "markdown",
      "source": [
        "**Declare feature vector and target variable**"
      ],
      "metadata": {
        "id": "Y5DYb9DmI_J1"
      }
    },
    {
      "cell_type": "code",
      "source": [
        "X = train_set.drop(['is_claim'], axis=1)\n",
        "y = train_set['is_claim']\n",
        "X_test_init = test_set.copy()\n",
        "X_test = X_test_init.drop(['is_claim'], axis=1)\n",
        "y_test = X_test_init['is_claim']"
      ],
      "metadata": {
        "id": "i8cQTZhlJAdE"
      },
      "execution_count": 17,
      "outputs": []
    },
    {
      "cell_type": "markdown",
      "source": [
        "**Use SMOTE to handle imbalanced data**"
      ],
      "metadata": {
        "id": "ZR5CirDuNX3m"
      }
    },
    {
      "cell_type": "code",
      "source": [
        "from imblearn.over_sampling import SMOTE"
      ],
      "metadata": {
        "id": "8Z1GrWAENZpn"
      },
      "execution_count": 18,
      "outputs": []
    },
    {
      "cell_type": "code",
      "source": [
        "balance = SMOTE(random_state=7, sampling_strategy=0.8)\n",
        "X_train, y_train = balance.fit_resample(X,y)\n",
        "print('Original training dataset shape :\\n{}'.format(y.value_counts()))\n",
        "print('Resampled training dataset shape :\\n{}'.format(y_train.value_counts()))\n",
        "sns.barplot(x = [0, 1], y = [38411, 30728])"
      ],
      "metadata": {
        "colab": {
          "base_uri": "https://localhost:8080/",
          "height": 424
        },
        "id": "t--1nW5ms59v",
        "outputId": "d3bbf26e-3d2a-493a-c7ae-efa2c44480a1"
      },
      "execution_count": 19,
      "outputs": [
        {
          "output_type": "stream",
          "name": "stdout",
          "text": [
            "Original training dataset shape :\n",
            "0    38411\n",
            "1     2603\n",
            "Name: is_claim, dtype: int64\n",
            "Resampled training dataset shape :\n",
            "0    38411\n",
            "1    30728\n",
            "Name: is_claim, dtype: int64\n"
          ]
        },
        {
          "output_type": "execute_result",
          "data": {
            "text/plain": [
              "<matplotlib.axes._subplots.AxesSubplot at 0x7f0e8fc13d00>"
            ]
          },
          "metadata": {},
          "execution_count": 19
        },
        {
          "output_type": "display_data",
          "data": {
            "text/plain": [
              "<Figure size 432x288 with 1 Axes>"
            ],
            "image/png": "[encoded data removed]"
          },
          "metadata": {
            "needs_background": "light"
          }
        }
      ]
    },
    {
      "cell_type": "markdown",
      "source": [
        "# Naïve Bayer classifier"
      ],
      "metadata": {
        "id": "yLlU5tRB24RG"
      }
    },
    {
      "cell_type": "markdown",
      "source": [
        "**Model training**"
      ],
      "metadata": {
        "id": "9Sx_Cuhv3bjU"
      }
    },
    {
      "cell_type": "code",
      "source": [
        "import math\n",
        "class Gaussian_Bayes():\n",
        "  def __init__(self):\n",
        "    pass\n",
        "  # Build the model\n",
        "  def fit(self,X_train,y_train):\n",
        "    self.training_data = X_train.copy()\n",
        "    self.gb_y_train = pd.DataFrame(y_train.values, columns = ['claim'])\n",
        "    self.training_data['claim'] = y_train.values\n",
        "    self.find_mean = self.training_data.groupby(\"claim\").mean() # Mean for gaussian\n",
        "    self.find_var = self.training_data.groupby(\"claim\").var() # Variance for gaussian\n",
        "    self.prior_prob = self.Prior()\n",
        "    return self\n",
        "  \n",
        "  # Prior probability\n",
        "  def Prior(self):\n",
        "    label = self.gb_y_train['claim'].value_counts().sort_index()\n",
        "    pri = []\n",
        "    for c in label :\n",
        "      pri.append(c/sum(label))\n",
        "    prior_prob = np.array(pri)\n",
        "    return prior_prob\n",
        "    \n",
        "  # Calculate with gaussian distribution\n",
        "  def Distribution(self,mu,variance,feature):\n",
        "    norm = 1/np.sqrt(2*math.pi*variance)*np.exp(-(feature-mu)**2/(2*variance)) # Normal distribution\n",
        "    norm = pd.DataFrame(norm).prod(axis=1) # P(x1,x2,...,xn|yi)\n",
        "    return norm\n",
        "\n",
        "  # Prediction\n",
        "  def Predict(self,X_test):\n",
        "    final_prob = []\n",
        "    for feature in X_test.values :\n",
        "      prob=self.Distribution(self.find_mean,self.find_var,feature)*self.prior_prob\n",
        "      final_prob.append(prob)\n",
        "    result=np.argmax(final_prob, axis=1)  # argmax for prediction\n",
        "    return result"
      ],
      "metadata": {
        "id": "x3j5GSeo1fOY"
      },
      "execution_count": 20,
      "outputs": []
    },
    {
      "cell_type": "code",
      "source": [
        "nb = Gaussian_Bayes()"
      ],
      "metadata": {
        "id": "Fyug0gWUWdmY"
      },
      "execution_count": 51,
      "outputs": []
    },
    {
      "cell_type": "code",
      "source": [
        "nb.fit(X_train,y_train)\n",
        "# Test set prediction\n",
        "y_test_nb = nb.Predict(X_test)\n",
        "# Train set prediction\n",
        "y_train_nb = nb.Predict(X_train)"
      ],
      "metadata": {
        "id": "s9fti-xHqH4J"
      },
      "execution_count": 52,
      "outputs": []
    },
    {
      "cell_type": "markdown",
      "source": [
        "**Check accuracy score**"
      ],
      "metadata": {
        "id": "fe2cSXZyaJIz"
      }
    },
    {
      "cell_type": "code",
      "source": [
        "from sklearn.metrics import accuracy_score"
      ],
      "metadata": {
        "id": "3nUjvjlWaLfo"
      },
      "execution_count": 44,
      "outputs": []
    },
    {
      "cell_type": "code",
      "source": [
        "# Train set accuracy\n",
        "train_accuracy_nb = accuracy_score(y_train,y_train_nb)\n",
        "# Test set accuracy\n",
        "test_accuracy_nb = accuracy_score(y_test,y_test_nb)\n",
        "\n",
        "print('Test set accuracy : {0:0.4f}'. format(test_accuracy_nb))\n",
        "print('Train set accuracy : {0:0.4f}'. format(train_accuracy_nb))"
      ],
      "metadata": {
        "colab": {
          "base_uri": "https://localhost:8080/"
        },
        "id": "9-SzwEsefJsC",
        "outputId": "e90319f9-85d6-4e13-8a9e-3a4a38887607"
      },
      "execution_count": 143,
      "outputs": [
        {
          "output_type": "stream",
          "name": "stdout",
          "text": [
            "Test set accuracy : 0.2218\n",
            "Train set accuracy : 0.4895\n"
          ]
        }
      ]
    },
    {
      "cell_type": "code",
      "source": [
        "#Print the Confusion Matrix and slice it into four pieces\n",
        "from sklearn.metrics import confusion_matrix"
      ],
      "metadata": {
        "id": "pCVWq0ZXS1vc"
      },
      "execution_count": 49,
      "outputs": []
    },
    {
      "cell_type": "code",
      "source": [
        "cm_nb = confusion_matrix(y_test, y_test_nb)\n",
        "# Visualize confusion matrix \n",
        "sns.set(rc = {'figure.figsize':(5,4)})\n",
        "confusion_matrix_nb = pd.DataFrame(data=cm_nb, columns=['Predict Negative:0', 'Predict Positive:1'], index=['Actual Negative:0', 'Actual Positive:1'])\n",
        "sns.heatmap(confusion_matrix_nb, annot=True, fmt='d', cmap='YlGnBu')"
      ],
      "metadata": {
        "colab": {
          "base_uri": "https://localhost:8080/",
          "height": 285
        },
        "id": "Kb2MxEHUnR6B",
        "outputId": "ec7dbccf-5af3-43a8-eee3-797d7e68b24f"
      },
      "execution_count": 195,
      "outputs": [
        {
          "output_type": "execute_result",
          "data": {
            "text/plain": [
              "<matplotlib.axes._subplots.AxesSubplot at 0x7f0e881acdf0>"
            ]
          },
          "metadata": {},
          "execution_count": 195
        },
        {
          "output_type": "display_data",
          "data": {
            "text/plain": [
              "<Figure size 360x288 with 2 Axes>"
            ],
            "image/png": "[encoded data removed]"
          },
          "metadata": {}
        }
      ]
    },
    {
      "cell_type": "markdown",
      "source": [
        "# Random Forest Classifier"
      ],
      "metadata": {
        "id": "UNczXK34svkm"
      }
    },
    {
      "cell_type": "markdown",
      "source": [
        "**Entropy and information_gain**"
      ],
      "metadata": {
        "id": "g4RlzKpEyy4Y"
      }
    },
    {
      "cell_type": "code",
      "source": [
        "class Node:\n",
        "    def __init__(self,predicted_class):\n",
        "        self.predicted_class = predicted_class\n",
        "        self.feature_index = 0\n",
        "        self.threshold = 0\n",
        "        self.left = None\n",
        "        self.right = None\n",
        "\n",
        "class DecisionTree:\n",
        "    def __init__(self,max_depth=None,max_features=None,random_state=None):\n",
        "        self.max_depth = max_depth\n",
        "        self.max_features = max_features\n",
        "        self.random_state = random_state\n",
        "        self.tree = None\n",
        "    \n",
        "    def fit(self, X, y):\n",
        "        # store number of classes and features of the dataset into model object\n",
        "        if isinstance(X, pd.core.frame.DataFrame):\n",
        "            X = X.values\n",
        "        if isinstance(y, pd.core.series.Series):\n",
        "            y = y.values\n",
        "\n",
        "        self.n_classes = len(set(y))\n",
        "        self.n_features = X.shape[1]\n",
        "        if self.max_features==None:\n",
        "            self.max_features = self.n_features\n",
        "\n",
        "        if isinstance(self.max_features,float) and self.max_features<=1:\n",
        "            self.max_features = int(self.max_features*self.n_features)\n",
        "\n",
        "        # create tree for the dataset\n",
        "        self.tree = self.grow_tree(X,y,self.random_state)\n",
        "\n",
        "    def grow_tree(self, X, y, random_state, depth=0):\n",
        "    \n",
        "        num_samples_per_class = [np.sum(y == i) for i in range(self.n_classes)]\n",
        "        predicted_class = np.argmax(num_samples_per_class)\n",
        "\n",
        "        node = Node(predicted_class=predicted_class)\n",
        "\n",
        "        if (self.max_depth is None) or (depth < self.max_depth):\n",
        "            id, thr = self.best_split(X, y, random_state)\n",
        "\n",
        "            if id is not None:\n",
        "                if random_state is not None:\n",
        "                    random_state += 1\n",
        "\n",
        "                indices_left = X[:, id] < thr\n",
        "                X_left, y_left = X[indices_left], y[indices_left]\n",
        "                X_right, y_right = X[~indices_left], y[~indices_left]\n",
        "                \n",
        "                node.feature_index = id\n",
        "                node.threshold = thr\n",
        "                node.left = self.grow_tree(X_left, y_left, random_state, depth + 1)\n",
        "                node.right = self.grow_tree(X_right, y_right, random_state, depth + 1)\n",
        "\n",
        "        return node  \n",
        "      \n",
        "    def best_split(self, X, y, random_state):\n",
        "\n",
        "        m = len(y)\n",
        "        if m <= 1:\n",
        "            return None, None\n",
        "\n",
        "        num_class_parent = [np.sum(y==c) for c in range(self.n_classes)]\n",
        "        best_gini = 1.0 - sum((n / m) ** 2 for n in num_class_parent)\n",
        "        if best_gini == 0:\n",
        "            return None, None\n",
        "\n",
        "        best_feat_id, best_threshold = None, None\n",
        "\n",
        "        random.seed(random_state)\n",
        "        feat_indices = random.sample(range(self.n_features),self.max_features)\n",
        "\n",
        "        for feat_id in feat_indices:\n",
        "\n",
        "            sorted_column = sorted(set(X[:,feat_id]))\n",
        "            threshold_values = [np.mean([a,b]) for a,b in zip(sorted_column,sorted_column[1:])]\n",
        "\n",
        "            for threshold in threshold_values:\n",
        "\n",
        "                left_y = y[X[:,feat_id]<threshold]\n",
        "                right_y = y[X[:,feat_id]>threshold]\n",
        "\n",
        "                num_class_left = [np.sum(left_y==c) for c in range(self.n_classes)]\n",
        "                num_class_right = [np.sum(right_y==c) for c in range(self.n_classes)]\n",
        "\n",
        "                gini_left = 1.0 - sum((n / len(left_y)) ** 2 for n in num_class_left)\n",
        "                gini_right = 1.0 - sum((n / len(right_y)) ** 2 for n in num_class_right)\n",
        "\n",
        "                gini = (len(left_y)/m)*gini_left + (len(right_y)/m)*gini_right\n",
        "\n",
        "                if gini < best_gini:\n",
        "                    best_gini = gini\n",
        "                    best_feat_id = feat_id\n",
        "                    best_threshold = threshold\n",
        "\n",
        "        return best_feat_id, best_threshold\n",
        "\n",
        "    def predict(self,X):\n",
        "    \n",
        "        if isinstance(X, pd.core.frame.DataFrame):\n",
        "            X = X.values\n",
        "\n",
        "        predicted_classes = np.array([self.predict_example(inputs) for inputs in X])\n",
        "\n",
        "        return predicted_classes\n",
        "\n",
        "    def predict_example(self, inputs):\n",
        "\n",
        "        node = self.tree\n",
        "\n",
        "        while node.left:\n",
        "            if inputs[node.feature_index] < node.threshold:\n",
        "                node = node.left\n",
        "            else:\n",
        "                node = node.right\n",
        "\n",
        "        return node.predicted_class "
      ],
      "metadata": {
        "id": "-XM1GbjBMz7l"
      },
      "execution_count": 31,
      "outputs": []
    },
    {
      "cell_type": "code",
      "source": [
        "from scipy import stats\n",
        "import random\n",
        "\n",
        "class RandomForest:\n",
        "    def __init__(self, num_trees=5, subsample_size=None, max_depth=5, max_features=5, bootstrap=True, random_state=None):\n",
        "        self.num_trees = num_trees\n",
        "        self.subsample_size = subsample_size\n",
        "        self.max_depth = max_depth\n",
        "        self.max_features = max_features\n",
        "        self.bootstrap = bootstrap\n",
        "        self.random_state = random_state\n",
        "        # Will store individually trained decision trees\n",
        "        self.decision_trees = []\n",
        "    def fit(self, X, y):\n",
        "        # Reset\n",
        "        if len(self.decision_trees) > 0:\n",
        "            self.decision_trees = []\n",
        "\n",
        "        if isinstance(X, pd.core.frame.DataFrame):\n",
        "            X = X.values\n",
        "        if isinstance(y, pd.core.series.Series):\n",
        "            y = y.values\n",
        "            \n",
        "        # Build each tree of the forest\n",
        "        num_built = 0\n",
        "\n",
        "        while num_built < self.num_trees:\n",
        "\n",
        "            clf = DecisionTree(\n",
        "                max_depth=self.max_depth,\n",
        "                max_features=self.max_features,\n",
        "                random_state=self.random_state\n",
        "            )\n",
        "\n",
        "            # Obtain data sample\n",
        "            _X, _y = self.sample(X, y, self.random_state)\n",
        "            # Train\n",
        "            clf.fit(_X, _y)\n",
        "            # Save the classifier\n",
        "            self.decision_trees.append(clf)\n",
        "            \n",
        "            num_built += 1\n",
        "\n",
        "            if self.random_state is not None:\n",
        "                self.random_state += 1\n",
        "\n",
        "    def sample(self, X, y, random_state):\n",
        "\n",
        "        n_rows, n_cols = X.shape\n",
        "\n",
        "        # Sample with replacement\n",
        "        if self.subsample_size is None:\n",
        "            sample_size = n_rows\n",
        "        else:\n",
        "            sample_size = int(n_rows*self.subsample_size)\n",
        "\n",
        "        np.random.seed(random_state)\n",
        "        samples = np.random.choice(a=n_rows, size=sample_size, replace=self.bootstrap)\n",
        "\n",
        "        return X[samples], y[samples]\n",
        "    \n",
        "    def predict(self, X):\n",
        "        # Make predictions with every tree in the forest\n",
        "        y = []\n",
        "        for tree in self.decision_trees:\n",
        "            y.append(tree.predict(X))\n",
        "        \n",
        "        # Reshape so we can find the most common value\n",
        "        y = np.swapaxes(y, axis1=0, axis2=1)\n",
        "        \n",
        "        # Use majority voting for the final prediction\n",
        "        predicted_classes = stats.mode(y,axis=1)[0].reshape(-1)\n",
        "\n",
        "        return predicted_classes\n",
        "\n",
        "    "
      ],
      "metadata": {
        "id": "h6DWIKL6N4KQ"
      },
      "execution_count": 37,
      "outputs": []
    },
    {
      "cell_type": "code",
      "source": [
        "rfc_s = RandomForest()\n",
        "rfc_s.fit(X_train,y_train)\n",
        "# Test set prediction\n",
        "y_test_rfc_s = rfc_s.predict(X_test)\n",
        "# Train set prediction\n",
        "y_train_rfc_s = rfc_s.predict(X_train)"
      ],
      "metadata": {
        "id": "we4ppfLZOfBH"
      },
      "execution_count": 39,
      "outputs": []
    },
    {
      "cell_type": "code",
      "source": [
        "# Train set accuracy\n",
        "train_accuracy_rfc_s = accuracy_score(y_train,y_train_rfc_s)\n",
        "# Test set accuracy\n",
        "test_accuracy_rfc_s = accuracy_score(y_test,y_test_rfc_s)\n",
        "\n",
        "print('Test set accuracy : {0:0.4f}'. format(test_accuracy_rfc_s))\n",
        "print('Train set accuracy : {0:0.4f}'. format(train_accuracy_rfc_s))"
      ],
      "metadata": {
        "colab": {
          "base_uri": "https://localhost:8080/"
        },
        "id": "CiX_NxQMQ6DC",
        "outputId": "9eb2af43-de41-4cdc-dc1d-6a5047ab0202"
      },
      "execution_count": 45,
      "outputs": [
        {
          "output_type": "stream",
          "name": "stdout",
          "text": [
            "Test set accuracy : 0.9259\n",
            "Train set accuracy : 0.5619\n"
          ]
        }
      ]
    },
    {
      "cell_type": "code",
      "source": [
        "# Visualize confusion matrix \n",
        "cm_rfc_s = confusion_matrix(y_test, y_test_rfc_s)\n",
        "sns.set(rc = {'figure.figsize':(5,4)})\n",
        "confusion_matrix_rfc_s = pd.DataFrame(data=cm_rfc_s, columns=['Predict Negative:0', 'Predict Positive:1'], index=['Actual Negative:0', 'Actual Positive:1'])\n",
        "sns.heatmap(confusion_matrix_rfc_s, annot=True, fmt='d', cmap='YlGnBu')"
      ],
      "metadata": {
        "colab": {
          "base_uri": "https://localhost:8080/",
          "height": 285
        },
        "id": "PCesxhLKRJBE",
        "outputId": "9b51ef81-31cf-4183-c503-1eb62d265a80"
      },
      "execution_count": 196,
      "outputs": [
        {
          "output_type": "execute_result",
          "data": {
            "text/plain": [
              "<matplotlib.axes._subplots.AxesSubplot at 0x7f0e8c21f5b0>"
            ]
          },
          "metadata": {},
          "execution_count": 196
        },
        {
          "output_type": "display_data",
          "data": {
            "text/plain": [
              "<Figure size 360x288 with 2 Axes>"
            ],
            "image/png": "[encoded data removed]"
          },
          "metadata": {}
        }
      ]
    },
    {
      "cell_type": "markdown",
      "source": [
        "# Random Forest Classifier (sklearn)"
      ],
      "metadata": {
        "id": "xSyGBWUZTmTz"
      }
    },
    {
      "cell_type": "code",
      "source": [
        "from sklearn.ensemble import RandomForestClassifier"
      ],
      "metadata": {
        "id": "RCTlVIjdTmxB"
      },
      "execution_count": 55,
      "outputs": []
    },
    {
      "cell_type": "code",
      "source": [
        "rfc = RandomForestClassifier(n_estimators=100,\n",
        "              criterion='gini',max_depth=10,max_features='log2',\n",
        "              min_samples_leaf=3,min_samples_split=10,random_state=17)                      "
      ],
      "metadata": {
        "id": "xTLk7iqJUkTw"
      },
      "execution_count": 56,
      "outputs": []
    },
    {
      "cell_type": "code",
      "source": [
        "# Model training\n",
        "rfc.fit(X_train,y_train)\n",
        "# Test set prediction\n",
        "y_test_rfc = rfc.predict(X_test)\n",
        "# Train set prediction\n",
        "y_train_rfc = rfc.predict(X_train)"
      ],
      "metadata": {
        "id": "pPxpRRvNVKag"
      },
      "execution_count": 57,
      "outputs": []
    },
    {
      "cell_type": "code",
      "source": [
        "# Train set accuracy\n",
        "train_accuracy_rfc = accuracy_score(y_train,y_train_rfc)\n",
        "# Test set accuracy\n",
        "test_accuracy_rfc = accuracy_score(y_test,y_test_rfc)\n",
        "\n",
        "print('Test set accuracy : {0:0.4f}'. format(test_accuracy_rfc))\n",
        "print('Train set accuracy : {0:0.4f}'. format(train_accuracy_rfc))"
      ],
      "metadata": {
        "colab": {
          "base_uri": "https://localhost:8080/"
        },
        "id": "xtWoA2zzb1qx",
        "outputId": "717c5f04-2e87-464e-a58e-fa0ce0fcc7ed"
      },
      "execution_count": 58,
      "outputs": [
        {
          "output_type": "stream",
          "name": "stdout",
          "text": [
            "Test set accuracy : 0.7858\n",
            "Train set accuracy : 0.6963\n"
          ]
        }
      ]
    },
    {
      "cell_type": "code",
      "source": [
        "# Visualize confusion matrix \n",
        "cm_rfc = confusion_matrix(y_test, y_test_rfc)\n",
        "confusion_matrix_rfc = pd.DataFrame(data=cm_rfc, columns=['Predict Negative:0', 'Predict Positive:1'], index=['Actual Negative:0', 'Actual Positive:1'])\n",
        "sns.heatmap(confusion_matrix_rfc, annot=True, fmt='d', cmap='YlGnBu')"
      ],
      "metadata": {
        "colab": {
          "base_uri": "https://localhost:8080/",
          "height": 285
        },
        "id": "Z7sVRuqxANwz",
        "outputId": "1cbb14b0-0d0b-4ba8-addc-4b5cbee95ef4"
      },
      "execution_count": 197,
      "outputs": [
        {
          "output_type": "execute_result",
          "data": {
            "text/plain": [
              "<matplotlib.axes._subplots.AxesSubplot at 0x7f0e87b24220>"
            ]
          },
          "metadata": {},
          "execution_count": 197
        },
        {
          "output_type": "display_data",
          "data": {
            "text/plain": [
              "<Figure size 360x288 with 2 Axes>"
            ],
            "image/png": "[encoded data removed]"
          },
          "metadata": {}
        }
      ]
    },
    {
      "cell_type": "markdown",
      "source": [
        "# XGBoost"
      ],
      "metadata": {
        "id": "A0GLuzukr52u"
      }
    },
    {
      "cell_type": "code",
      "source": [
        "from xgboost import XGBClassifier"
      ],
      "metadata": {
        "id": "sBug1RMTr4_l"
      },
      "execution_count": 60,
      "outputs": []
    },
    {
      "cell_type": "code",
      "source": [
        "xgb = XGBClassifier(n_estimators=100, learning_rate= 0.4)\n",
        "# Model training\n",
        "xgb.fit(X_train, y_train)\n",
        "# Test set prediction\n",
        "y_test_xgb = xgb.predict(X_test)\n",
        "# Train set prediction\n",
        "y_train_xgb = xgb.predict(X_train)"
      ],
      "metadata": {
        "id": "jIAwQKYUsHs4"
      },
      "execution_count": 61,
      "outputs": []
    },
    {
      "cell_type": "code",
      "source": [
        "# Train set accuracy\n",
        "train_accuracy_xgb = accuracy_score(y_train,y_train_xgb)\n",
        "# Test set accuracy\n",
        "test_accuracy_xgb = accuracy_score(y_test,y_test_xgb)\n",
        "\n",
        "print('Test set accuracy : {0:0.4f}'. format(test_accuracy_xgb))\n",
        "print('Train set accuracy : {0:0.4f}'. format(train_accuracy_xgb))"
      ],
      "metadata": {
        "colab": {
          "base_uri": "https://localhost:8080/"
        },
        "id": "WoyOv7SN0tie",
        "outputId": "1a1f8456-4d6d-4348-c64a-fa9c92835d19"
      },
      "execution_count": 62,
      "outputs": [
        {
          "output_type": "stream",
          "name": "stdout",
          "text": [
            "Test set accuracy : 0.9225\n",
            "Train set accuracy : 0.9353\n"
          ]
        }
      ]
    },
    {
      "cell_type": "code",
      "source": [
        "# Visualize confusion matrix \n",
        "cm_xgb = confusion_matrix(y_test, y_test_xgb)\n",
        "confusion_matrix_xgb = pd.DataFrame(data=cm_xgb, columns=['Predict Negative:0', 'Predict Positive:1'], index=['Actual Negative:0', 'Actual Positive:1'])\n",
        "sns.heatmap(confusion_matrix_xgb, annot=True, fmt='d', cmap='YlGnBu')"
      ],
      "metadata": {
        "colab": {
          "base_uri": "https://localhost:8080/",
          "height": 286
        },
        "id": "T533bg9zJ-0m",
        "outputId": "f57e9494-0bb0-482d-ba09-e9088e319759"
      },
      "execution_count": 198,
      "outputs": [
        {
          "output_type": "execute_result",
          "data": {
            "text/plain": [
              "<matplotlib.axes._subplots.AxesSubplot at 0x7f0e88c77910>"
            ]
          },
          "metadata": {},
          "execution_count": 198
        },
        {
          "output_type": "display_data",
          "data": {
            "text/plain": [
              "<Figure size 360x288 with 2 Axes>"
            ],
            "image/png": "[encoded data removed]"
          },
          "metadata": {}
        }
      ]
    },
    {
      "cell_type": "markdown",
      "source": [
        "# Catboost"
      ],
      "metadata": {
        "id": "YoYAfsgQZ9OE"
      }
    },
    {
      "cell_type": "code",
      "source": [
        "!pip install catboost\n",
        "from catboost import CatBoostClassifier"
      ],
      "metadata": {
        "id": "NM8T8adUaAdj",
        "colab": {
          "base_uri": "https://localhost:8080/"
        },
        "outputId": "8f243ffc-7c42-4515-d79e-394f3f38a0b5"
      },
      "execution_count": 64,
      "outputs": [
        {
          "output_type": "stream",
          "name": "stdout",
          "text": [
            "Looking in indexes: https://pypi.org/simple, https://us-python.pkg.dev/colab-wheels/public/simple/\n",
            "Collecting catboost\n",
            "  Downloading catboost-1.1.1-cp38-none-manylinux1_x86_64.whl (76.6 MB)\n",
            "\u001b[K     |████████████████████████████████| 76.6 MB 1.1 MB/s \n",
            "\u001b[?25hRequirement already satisfied: graphviz in /usr/local/lib/python3.8/dist-packages (from catboost) (0.10.1)\n",
            "Requirement already satisfied: matplotlib in /usr/local/lib/python3.8/dist-packages (from catboost) (3.2.2)\n",
            "Requirement already satisfied: scipy in /usr/local/lib/python3.8/dist-packages (from catboost) (1.7.3)\n",
            "Requirement already satisfied: plotly in /usr/local/lib/python3.8/dist-packages (from catboost) (5.5.0)\n",
            "Requirement already satisfied: numpy>=1.16.0 in /usr/local/lib/python3.8/dist-packages (from catboost) (1.21.6)\n",
            "Requirement already satisfied: pandas>=0.24.0 in /usr/local/lib/python3.8/dist-packages (from catboost) (1.3.5)\n",
            "Requirement already satisfied: six in /usr/local/lib/python3.8/dist-packages (from catboost) (1.15.0)\n",
            "Requirement already satisfied: python-dateutil>=2.7.3 in /usr/local/lib/python3.8/dist-packages (from pandas>=0.24.0->catboost) (2.8.2)\n",
            "Requirement already satisfied: pytz>=2017.3 in /usr/local/lib/python3.8/dist-packages (from pandas>=0.24.0->catboost) (2022.6)\n",
            "Requirement already satisfied: kiwisolver>=1.0.1 in /usr/local/lib/python3.8/dist-packages (from matplotlib->catboost) (1.4.4)\n",
            "Requirement already satisfied: pyparsing!=2.0.4,!=2.1.2,!=2.1.6,>=2.0.1 in /usr/local/lib/python3.8/dist-packages (from matplotlib->catboost) (3.0.9)\n",
            "Requirement already satisfied: cycler>=0.10 in /usr/local/lib/python3.8/dist-packages (from matplotlib->catboost) (0.11.0)\n",
            "Requirement already satisfied: tenacity>=6.2.0 in /usr/local/lib/python3.8/dist-packages (from plotly->catboost) (8.1.0)\n",
            "Installing collected packages: catboost\n",
            "Successfully installed catboost-1.1.1\n"
          ]
        }
      ]
    },
    {
      "cell_type": "code",
      "source": [
        "cbc = CatBoostClassifier(iterations=100,learning_rate=0.4,verbose=0 )                  \n",
        "# Model training\n",
        "cbc.fit(X_train,y_train)\n",
        "# Test set prediction\n",
        "y_test_cbc = cbc.predict(X_test)\n",
        "# Train set prediction\n",
        "y_train_cbc = cbc.predict(X_train)"
      ],
      "metadata": {
        "id": "fYXraZ-BbROl"
      },
      "execution_count": 65,
      "outputs": []
    },
    {
      "cell_type": "code",
      "source": [
        "# Train set accuracy\n",
        "train_accuracy_cbc = accuracy_score(y_train,y_train_cbc)\n",
        "# Test set accuracy\n",
        "test_accuracy_cbc = accuracy_score(y_test,y_test_cbc)\n",
        "\n",
        "print('Test set accuracy : {0:0.4f}'. format(test_accuracy_cbc))\n",
        "print('Train set accuracy : {0:0.4f}'. format(train_accuracy_cbc))"
      ],
      "metadata": {
        "colab": {
          "base_uri": "https://localhost:8080/"
        },
        "id": "n4bZfFpQdohL",
        "outputId": "7f6caf41-7554-4d07-8cf2-11fa3fef5fb1"
      },
      "execution_count": 66,
      "outputs": [
        {
          "output_type": "stream",
          "name": "stdout",
          "text": [
            "Test set accuracy : 0.9331\n",
            "Train set accuracy : 0.9587\n"
          ]
        }
      ]
    },
    {
      "cell_type": "code",
      "source": [
        "# Visualize confusion matrix \n",
        "cm_cbc = confusion_matrix(y_test, y_test_cbc)\n",
        "confusion_matrix_cbc = pd.DataFrame(data=cm_cbc, columns=['Predict Negative:0', 'Predict Positive:1'], index=['Actual Negative:0', 'Actual Positive:1'])\n",
        "sns.heatmap(confusion_matrix_cbc, annot=True, fmt='d', cmap='YlGnBu')"
      ],
      "metadata": {
        "colab": {
          "base_uri": "https://localhost:8080/",
          "height": 285
        },
        "id": "v400s3jbeNmz",
        "outputId": "a98c8d00-2ba5-4357-a213-7073a4cfe5cb"
      },
      "execution_count": 199,
      "outputs": [
        {
          "output_type": "execute_result",
          "data": {
            "text/plain": [
              "<matplotlib.axes._subplots.AxesSubplot at 0x7f0e8c7524c0>"
            ]
          },
          "metadata": {},
          "execution_count": 199
        },
        {
          "output_type": "display_data",
          "data": {
            "text/plain": [
              "<Figure size 360x288 with 2 Axes>"
            ],
            "image/png": "[encoded data removed]"
          },
          "metadata": {}
        }
      ]
    },
    {
      "cell_type": "markdown",
      "source": [
        "# LightGBM"
      ],
      "metadata": {
        "id": "1FJX5I3feadW"
      }
    },
    {
      "cell_type": "code",
      "source": [
        "import lightgbm as lgb\n",
        "from lightgbm import LGBMClassifier"
      ],
      "metadata": {
        "id": "A5hD2rlAedZc"
      },
      "execution_count": 68,
      "outputs": []
    },
    {
      "cell_type": "code",
      "source": [
        "lgbm = lgb.LGBMClassifier(n_estimators = 100,learning_rate = 0.4)\n",
        "# Model training\n",
        "lgbm.fit(X_train, y_train)\n",
        "# Test set prediction\n",
        "y_test_lgbm = lgbm.predict(X_test)\n",
        "# Train set prediction\n",
        "y_train_lgbm = lgbm.predict(X_train)"
      ],
      "metadata": {
        "id": "4bh0f7rBfbLa"
      },
      "execution_count": 69,
      "outputs": []
    },
    {
      "cell_type": "code",
      "source": [
        "# Train set accuracy\n",
        "train_accuracy_lgbm = accuracy_score(y_train,y_train_lgbm)\n",
        "# Test set accuracy\n",
        "test_accuracy_lgbm = accuracy_score(y_test,y_test_lgbm)\n",
        "\n",
        "print('Test set accuracy : {0:0.4f}'. format(test_accuracy_lgbm))\n",
        "print('Train set accuracy : {0:0.4f}'. format(train_accuracy_lgbm))"
      ],
      "metadata": {
        "colab": {
          "base_uri": "https://localhost:8080/"
        },
        "id": "L7DtadL9f7BW",
        "outputId": "0aba6ba8-463c-4ee3-8256-6483583b7319"
      },
      "execution_count": 70,
      "outputs": [
        {
          "output_type": "stream",
          "name": "stdout",
          "text": [
            "Test set accuracy : 0.9316\n",
            "Train set accuracy : 0.9624\n"
          ]
        }
      ]
    },
    {
      "cell_type": "code",
      "source": [
        "# Visualize confusion matrix \n",
        "cm_lgbm = confusion_matrix(y_test, y_test_lgbm)\n",
        "confusion_matrix_lgbm = pd.DataFrame(data=cm_lgbm, columns=['Predict Negative:0', 'Predict Positive:1'], index=['Actual Negative:0', 'Actual Positive:1'])\n",
        "sns.heatmap(confusion_matrix_lgbm, annot=True, fmt='d', cmap='YlGnBu')"
      ],
      "metadata": {
        "colab": {
          "base_uri": "https://localhost:8080/",
          "height": 285
        },
        "id": "rCcRSxcVgFND",
        "outputId": "5ca040ad-b656-4800-a833-96e8a41b8a55"
      },
      "execution_count": 200,
      "outputs": [
        {
          "output_type": "execute_result",
          "data": {
            "text/plain": [
              "<matplotlib.axes._subplots.AxesSubplot at 0x7f0e8c73f940>"
            ]
          },
          "metadata": {},
          "execution_count": 200
        },
        {
          "output_type": "display_data",
          "data": {
            "text/plain": [
              "<Figure size 360x288 with 2 Axes>"
            ],
            "image/png": "[encoded data removed]"
          },
          "metadata": {}
        }
      ]
    },
    {
      "cell_type": "markdown",
      "source": [
        "# K-Fold Cross-Validation"
      ],
      "metadata": {
        "id": "MzOGo6oSbIK7"
      }
    },
    {
      "cell_type": "code",
      "source": [
        "from sklearn.model_selection import cross_validate"
      ],
      "metadata": {
        "id": "XHMKxP3wbHVq"
      },
      "execution_count": 72,
      "outputs": []
    },
    {
      "cell_type": "code",
      "source": [
        "X_cv = train.drop(['is_claim'], axis=1)\n",
        "y_cv = train['is_claim']"
      ],
      "metadata": {
        "id": "CfA4b6DbcSg_"
      },
      "execution_count": 73,
      "outputs": []
    },
    {
      "cell_type": "code",
      "source": [
        "balance_cv = SMOTE(random_state=7, sampling_strategy=0.8)\n",
        "X_cvb, y_cvb = balance_cv.fit_resample(X_cv,y_cv)\n",
        "print('Resampled dataset shape :\\n{}'.format(y_cvb.value_counts()))\n",
        "sns.barplot(x = [0, 1], y = [54844, 43875])"
      ],
      "metadata": {
        "colab": {
          "base_uri": "https://localhost:8080/",
          "height": 352
        },
        "id": "IiveNTL3iH-s",
        "outputId": "a067dfec-5d85-4712-b65f-326a3a6bd4a2"
      },
      "execution_count": 74,
      "outputs": [
        {
          "output_type": "stream",
          "name": "stdout",
          "text": [
            "Resampled dataset shape :\n",
            "0    54844\n",
            "1    43875\n",
            "Name: is_claim, dtype: int64\n"
          ]
        },
        {
          "output_type": "execute_result",
          "data": {
            "text/plain": [
              "<matplotlib.axes._subplots.AxesSubplot at 0x7f0e8fb1bdc0>"
            ]
          },
          "metadata": {},
          "execution_count": 74
        },
        {
          "output_type": "display_data",
          "data": {
            "text/plain": [
              "<Figure size 432x288 with 1 Axes>"
            ],
            "image/png": "[encoded data removed]"
          },
          "metadata": {
            "needs_background": "light"
          }
        }
      ]
    },
    {
      "cell_type": "code",
      "source": [
        "def cross_validation(model, cv_X, cv_y, cv_value):\n",
        "\n",
        "      score = ['accuracy', 'precision', 'recall', 'f1']\n",
        "      results = cross_validate(estimator = model,X = cv_X, y = cv_y, cv = cv_value,\n",
        "                               scoring = score, return_train_score = True)\n",
        "      print(\"{} Fold Mean Training Accuracy : \".format(cv_value),results['train_accuracy'].mean()) \n",
        "      print(\"{} Fold Mean Training Precision : \".format(cv_value),results['train_precision'].mean())\n",
        "      print(\"{} Fold Mean Training Recall : \".format(cv_value),results['train_recall'].mean())\n",
        "      print(\"{} Fold Mean Training F1 : \".format(cv_value),results['train_f1'].mean())\n",
        "      return [results['train_accuracy'].mean()*100 ,results['train_accuracy'].mean(), results['train_recall'].mean(),results['train_f1'].mean()]     \n",
        "    "
      ],
      "metadata": {
        "id": "-yGPeorlbLhv"
      },
      "execution_count": 203,
      "outputs": []
    },
    {
      "cell_type": "markdown",
      "source": [
        "**Random forest classifier (sklearn)**"
      ],
      "metadata": {
        "id": "GEFMR7PSdhPI"
      }
    },
    {
      "cell_type": "code",
      "source": [
        "rfc_result_3 = cross_validation(rfc, X_cvb, y_cvb, 3)\n",
        "rfc_result_5 = cross_validation(rfc, X_cvb, y_cvb, 5)\n",
        "rfc_result_10 = cross_validation(rfc, X_cvb, y_cvb, 10)"
      ],
      "metadata": {
        "colab": {
          "base_uri": "https://localhost:8080/"
        },
        "id": "rgI6QZa3fxSx",
        "outputId": "070d3106-a3a1-4595-c71a-d147b75d65c7"
      },
      "execution_count": 204,
      "outputs": [
        {
          "output_type": "stream",
          "name": "stdout",
          "text": [
            "3 Fold Mean Training Accuracy :  0.7022762031233022\n",
            "3 Fold Mean Training Precision :  0.6896596183657859\n",
            "3 Fold Mean Training Recall :  0.6007635327635328\n",
            "3 Fold Mean Training F1 :  0.6420861640999614\n",
            "5 Fold Mean Training Accuracy :  0.7020052088704394\n",
            "5 Fold Mean Training Precision :  0.6942563692444561\n",
            "5 Fold Mean Training Recall :  0.589014245014245\n",
            "5 Fold Mean Training F1 :  0.6371560771609736\n",
            "10 Fold Mean Training Accuracy :  0.7008478637094401\n",
            "10 Fold Mean Training Precision :  0.7033281726489022\n",
            "10 Fold Mean Training Recall :  0.5657942723153372\n",
            "10 Fold Mean Training F1 :  0.6269080839536136\n"
          ]
        }
      ]
    },
    {
      "cell_type": "markdown",
      "source": [
        "**XGBoost**"
      ],
      "metadata": {
        "id": "7XZP-W2bes-5"
      }
    },
    {
      "cell_type": "code",
      "source": [
        "xgb_result_3 = cross_validation(xgb, X_cvb, y_cvb, 3)\n",
        "xgb_result_5 = cross_validation(xgb, X_cvb, y_cvb, 5)\n",
        "xgb_result_10 = cross_validation(xgb, X_cvb, y_cvb, 10)"
      ],
      "metadata": {
        "colab": {
          "base_uri": "https://localhost:8080/"
        },
        "id": "OPSEUUaker2Z",
        "outputId": "b393329f-8df8-495a-df61-492d1ab04093"
      },
      "execution_count": 205,
      "outputs": [
        {
          "output_type": "stream",
          "name": "stdout",
          "text": [
            "3 Fold Mean Training Accuracy :  0.9283067700503378\n",
            "3 Fold Mean Training Precision :  0.9762211139677243\n",
            "3 Fold Mean Training Recall :  0.8593504273504274\n",
            "3 Fold Mean Training F1 :  0.9135865473109132\n",
            "5 Fold Mean Training Accuracy :  0.9290840973065558\n",
            "5 Fold Mean Training Precision :  0.978083980646885\n",
            "5 Fold Mean Training Recall :  0.8595954415954417\n",
            "5 Fold Mean Training F1 :  0.914700445355977\n",
            "10 Fold Mean Training Accuracy :  0.9277286558015545\n",
            "10 Fold Mean Training Precision :  0.9764755940948555\n",
            "10 Fold Mean Training Recall :  0.8580410381482257\n",
            "10 Fold Mean Training F1 :  0.9132924734347861\n"
          ]
        }
      ]
    },
    {
      "cell_type": "markdown",
      "source": [
        "**CatBoost**"
      ],
      "metadata": {
        "id": "od-8KTBIgW44"
      }
    },
    {
      "cell_type": "code",
      "source": [
        "cbc_result_3 = cross_validation(cbc, X_cvb, y_cvb, 3)\n",
        "cbc_result_5 = cross_validation(cbc, X_cvb, y_cvb, 5)\n",
        "cbc_result_10 = cross_validation(cbc, X_cvb, y_cvb, 10)"
      ],
      "metadata": {
        "colab": {
          "base_uri": "https://localhost:8080/"
        },
        "id": "Y0zlE4sNgZ7i",
        "outputId": "63131329-d97d-41e3-c916-9df4e1b2feba"
      },
      "execution_count": 206,
      "outputs": [
        {
          "output_type": "stream",
          "name": "stdout",
          "text": [
            "3 Fold Mean Training Accuracy :  0.9568473976503061\n",
            "3 Fold Mean Training Precision :  0.9982050339287488\n",
            "3 Fold Mean Training Recall :  0.9044786324786326\n",
            "3 Fold Mean Training F1 :  0.9481314441980487\n",
            "5 Fold Mean Training Accuracy :  0.9570067784706607\n",
            "5 Fold Mean Training Precision :  0.9982644347292993\n",
            "5 Fold Mean Training Recall :  0.9048091168091169\n",
            "5 Fold Mean Training F1 :  0.9487853060595116\n",
            "10 Fold Mean Training Accuracy :  0.9568472177106248\n",
            "10 Fold Mean Training Precision :  0.9988446635331825\n",
            "10 Fold Mean Training Recall :  0.9039441715456565\n",
            "10 Fold Mean Training F1 :  0.9488227351681205\n"
          ]
        }
      ]
    },
    {
      "cell_type": "markdown",
      "source": [
        "**LightGBM**"
      ],
      "metadata": {
        "id": "Qt2UzW-0gnkj"
      }
    },
    {
      "cell_type": "code",
      "source": [
        "lgbm_result_3 = cross_validation(lgbm, X_cvb, y_cvb, 3)\n",
        "lgbm_result_5 = cross_validation(lgbm, X_cvb, y_cvb, 5)\n",
        "lgbm_result_10 = cross_validation(lgbm, X_cvb, y_cvb, 10)"
      ],
      "metadata": {
        "colab": {
          "base_uri": "https://localhost:8080/"
        },
        "id": "k6Aiqj_ygsjf",
        "outputId": "8fc19ceb-9bca-4f68-a8c4-1902b509bc2b"
      },
      "execution_count": 207,
      "outputs": [
        {
          "output_type": "stream",
          "name": "stdout",
          "text": [
            "3 Fold Mean Training Accuracy :  0.9604637203126384\n",
            "3 Fold Mean Training Precision :  0.9975440450139109\n",
            "3 Fold Mean Training Recall :  0.9132193732193731\n",
            "3 Fold Mean Training F1 :  0.952675241679669\n",
            "5 Fold Mean Training Accuracy :  0.9593822084440895\n",
            "5 Fold Mean Training Precision :  0.9980412900096998\n",
            "5 Fold Mean Training Recall :  0.9103760683760683\n",
            "5 Fold Mean Training F1 :  0.9517472522736592\n",
            "10 Fold Mean Training Accuracy :  0.9591162844125831\n",
            "10 Fold Mean Training Precision :  0.998157182779295\n",
            "10 Fold Mean Training Recall :  0.9096826971658072\n",
            "10 Fold Mean Training F1 :  0.951668216526827\n"
          ]
        }
      ]
    },
    {
      "cell_type": "markdown",
      "source": [
        "**Naive Bayer**"
      ],
      "metadata": {
        "id": "P63wsfDug007"
      }
    },
    {
      "cell_type": "code",
      "source": [
        "from sklearn.model_selection import KFold, cross_val_score\n",
        "from sklearn.metrics import precision_score,recall_score,f1_score"
      ],
      "metadata": {
        "id": "CdzVHZ60IzdN"
      },
      "execution_count": 210,
      "outputs": []
    },
    {
      "cell_type": "code",
      "source": [
        "def NB_Kfold(k):\n",
        "  kf_nb = KFold(n_splits=k)\n",
        "  acc_score = []\n",
        "  pre_score = []\n",
        "  rec_score = []\n",
        "  f_score = []\n",
        "  for train_index, test_index in kf_nb.split(X_cvb):\n",
        "    X_train_nb_kv, X_test_nb_kv = X_cvb.iloc[train_index,:], X_cvb.iloc[test_index,:]\n",
        "    y_train_nb_kv, y_test_nb_kv = y_cvb[train_index], y_cvb[test_index]\n",
        "\n",
        "    nb.fit(X_train_nb_kv,y_train_nb_kv)\n",
        "    nb_kv_pred = nb.Predict(X_test_nb_kv)\n",
        "\n",
        "    acc_kv = accuracy_score(y_test_nb_kv,nb_kv_pred)\n",
        "    acc_score.append(acc_kv)\n",
        "    pre_kv = precision_score(y_test_nb_kv,nb_kv_pred)\n",
        "    pre_score.append(pre_kv)\n",
        "    rec_kv = recall_score(y_test_nb_kv,nb_kv_pred)\n",
        "    rec_score.append(rec_kv)\n",
        "    f_kv = f1_score(y_test_nb_kv,nb_kv_pred)\n",
        "    f_score.append(f_kv)\n",
        "\n",
        "  avg_acc_score = sum(acc_score)/k*100\n",
        "  avg_pre_score = sum(pre_score)/k\n",
        "  avg_rec_score = sum(rec_score)/k\n",
        "  avg_f_score = sum(f_score)/k\n",
        "  print(\"{} Fold Mean Training Accuracy : \".format(k),avg_acc_score)\n",
        "  print(\"{} Fold Mean Training Precision : \".format(k),avg_pre_score)\n",
        "  print(\"{} Fold Mean Training Recall : \".format(k),avg_rec_score)\n",
        "  print(\"{} Fold Mean Training F1 : \".format(k),avg_f_score)\n",
        "  return [avg_acc_score,avg_pre_score,avg_rec_score,avg_f_score]"
      ],
      "metadata": {
        "id": "rlF_dY0ZKq9V"
      },
      "execution_count": 211,
      "outputs": []
    },
    {
      "cell_type": "code",
      "source": [
        "nb_kv3 = NB_Kfold(3)\n",
        "nb_kv5 = NB_Kfold(5)\n",
        "nb_kv10 = NB_Kfold(10)"
      ],
      "metadata": {
        "colab": {
          "base_uri": "https://localhost:8080/"
        },
        "id": "i4_4OmKNNjf8",
        "outputId": "a04b6133-c3ea-47e8-e2aa-1803c60415a3"
      },
      "execution_count": 212,
      "outputs": [
        {
          "output_type": "stream",
          "name": "stdout",
          "text": [
            "3 Fold Mean Training Accuracy :  41.37521852281355\n",
            "3 Fold Mean Training Precision :  0.44900190141393503\n",
            "3 Fold Mean Training Recall :  0.7935150595116781\n",
            "3 Fold Mean Training F1 :  0.4458192202612983\n",
            "5 Fold Mean Training Accuracy :  46.209278183326745\n",
            "5 Fold Mean Training Precision :  0.4468173159932075\n",
            "5 Fold Mean Training Recall :  0.8272627250498559\n",
            "5 Fold Mean Training F1 :  0.43856907622490066\n",
            "10 Fold Mean Training Accuracy :  48.136976211113634\n",
            "10 Fold Mean Training Precision :  0.44702538611135567\n",
            "10 Fold Mean Training Recall :  0.8266935881939157\n",
            "10 Fold Mean Training F1 :  0.4443653117866836\n"
          ]
        }
      ]
    },
    {
      "cell_type": "markdown",
      "source": [
        "**Random Forest Classifier**"
      ],
      "metadata": {
        "id": "RFThAEmzRTfs"
      }
    },
    {
      "cell_type": "code",
      "source": [
        "def rfc_Kfold(k):\n",
        "  kf_rfc = KFold(n_splits=k)\n",
        "  acc_score = []\n",
        "  pre_score = []\n",
        "  rec_score = []\n",
        "  f_score = []\n",
        "  for train_index, test_index in kf_rfc.split(X_cvb):\n",
        "    X_train_rfc_kv, X_test_rfc_kv = X_cvb.iloc[train_index,:], X_cvb.iloc[test_index,:]\n",
        "    y_train_rfc_kv, y_test_rfc_kv = y_cvb[train_index], y_cvb[test_index]\n",
        "\n",
        "    rfc_s.fit(X_train_rfc_kv,y_train_rfc_kv)\n",
        "    rfc_kv_pred = rfc_s.predict(X_test_rfc_kv)\n",
        "\n",
        "    acc_kv = accuracy_score(y_test_rfc_kv,rfc_kv_pred)\n",
        "    acc_score.append(acc_kv)\n",
        "    pre_kv = precision_score(y_test_rfc_kv,rfc_kv_pred)\n",
        "    pre_score.append(pre_kv)\n",
        "    rec_kv = recall_score(y_test_rfc_kv,rfc_kv_pred)\n",
        "    rec_score.append(rec_kv)\n",
        "    f_kv = f1_score(y_test_rfc_kv,rfc_kv_pred)\n",
        "    f_score.append(f_kv)\n",
        "\n",
        "  avg_acc_score = sum(acc_score)/k*100\n",
        "  avg_pre_score = sum(pre_score)/k\n",
        "  avg_rec_score = sum(rec_score)/k\n",
        "  avg_f_score = sum(f_score)/k\n",
        "  print(\"{} Fold Mean Training Accuracy : \".format(k),avg_acc_score)\n",
        "  print(\"{} Fold Mean Training Precision : \".format(k),avg_pre_score)\n",
        "  print(\"{} Fold Mean Training Recall : \".format(k),avg_rec_score)\n",
        "  print(\"{} Fold Mean Training F1 : \".format(k),avg_f_score)\n",
        "  return [avg_acc_score,avg_pre_score,avg_rec_score,avg_f_score]"
      ],
      "metadata": {
        "id": "z-sthm45RZhR"
      },
      "execution_count": 213,
      "outputs": []
    },
    {
      "cell_type": "code",
      "source": [
        "rfc_s_kv3 = rfc_Kfold(3)\n",
        "rfc_s_kv5 = rfc_Kfold(5)\n",
        "rfc_s_kv10 = rfc_Kfold(10)"
      ],
      "metadata": {
        "colab": {
          "base_uri": "https://localhost:8080/"
        },
        "id": "HfQsmnxBSJl0",
        "outputId": "c6416704-e353-4857-ec41-12586cfa2fbd"
      },
      "execution_count": 214,
      "outputs": [
        {
          "output_type": "stream",
          "name": "stdout",
          "text": [
            "3 Fold Mean Training Accuracy :  14.900936161372428\n",
            "3 Fold Mean Training Precision :  0.1179145343958939\n",
            "3 Fold Mean Training Recall :  0.6451631816483627\n",
            "3 Fold Mean Training F1 :  0.1886146918925993\n",
            "5 Fold Mean Training Accuracy :  9.225081037277146\n",
            "5 Fold Mean Training Precision :  0.24621941864505134\n",
            "5 Fold Mean Training Recall :  0.5688948718905312\n",
            "5 Fold Mean Training F1 :  0.08543940292945622\n",
            "10 Fold Mean Training Accuracy :  30.58144410545962\n",
            "10 Fold Mean Training Precision :  0.4521512943473412\n",
            "10 Fold Mean Training Recall :  0.35255067225097314\n",
            "10 Fold Mean Training F1 :  0.0917785227222628\n"
          ]
        }
      ]
    },
    {
      "cell_type": "markdown",
      "source": [
        "**Conclusion - kfold**"
      ],
      "metadata": {
        "id": "8wxbAtiOgR_P"
      }
    },
    {
      "cell_type": "code",
      "source": [
        "kfold_df = pd.DataFrame([\n",
        "    ['Naive Bayer', 'k=3', nb_kv3[0]],\n",
        "    ['Naive Bayer', 'k=5', nb_kv5[0]],\n",
        "    ['Naive Bayer', 'k=10', nb_kv10[0]],\n",
        "    ['Random forest', 'k=3', rfc_s_kv3[0]],\n",
        "    ['Random forest', 'k=5', rfc_s_kv5[0]],\n",
        "    ['Random forest', 'k=10', rfc_s_kv10[0]],\n",
        "    ['Random forest(sklearn)', 'k=3', rfc_result_3[0]],\n",
        "    ['Random forest(sklearn)', 'k=5', rfc_result_5[0]],\n",
        "    ['Random forest(sklearn)', 'k=10', rfc_result_10[0]],\n",
        "    ['XGBoost', 'k=3', xgb_result_3[0]],\n",
        "    ['XGBoost', 'k=5', xgb_result_5[0]],\n",
        "    ['XGBoost', 'k=10', xgb_result_10[0]],\n",
        "    ['Catboost', 'k=3', cbc_result_3[0]],\n",
        "    ['Catboost', 'k=5', cbc_result_5[0]],\n",
        "    ['Catboost', 'k=10', cbc_result_10[0]],\n",
        "    ['LightGBM', 'k=3', lgbm_result_3[0]],\n",
        "    ['LightGBM', 'k=5', lgbm_result_5[0]],\n",
        "    ['LightGBM', 'k=10', lgbm_result_10[0]]], columns=['Models', 'k fold', 'Accuracy'])\n",
        "plt.xticks(rotation=-15,size=15)\n",
        "plt.yticks(size=15)\n",
        "sns.set(rc = {'figure.figsize':(25,12)})\n",
        "kf_acc_plot = sns.barplot(x='Models', y='Accuracy', hue='k fold', data=kfold_df)\n",
        "kf_acc_plot.set_title('Comparison of accuracy with different k cross-validation',size=25)\n",
        "for p in kf_acc_plot.patches:\n",
        "    kf_acc_plot.annotate(f'\\n{round(p.get_height(),2)}', (p.get_x(), p.get_height()), color='black', size=18)"
      ],
      "metadata": {
        "colab": {
          "base_uri": "https://localhost:8080/",
          "height": 516
        },
        "id": "nOn60pNDgUX8",
        "outputId": "d15146c6-9717-4155-d806-96ef7911fa58"
      },
      "execution_count": 218,
      "outputs": [
        {
          "output_type": "display_data",
          "data": {
            "text/plain": [
              "<Figure size 1800x864 with 1 Axes>"
            ],
            "image/png": "[encoded data removed]"
          },
          "metadata": {}
        }
      ]
    },
    {
      "cell_type": "code",
      "source": [
        "kfold_rec_df = pd.DataFrame([\n",
        "    ['Naive Bayer', 'k=3', nb_kv3[2]],\n",
        "    ['Naive Bayer', 'k=5', nb_kv5[2]],\n",
        "    ['Naive Bayer', 'k=10', nb_kv10[2]],\n",
        "    ['Random forest', 'k=3', rfc_s_kv3[2]],\n",
        "    ['Random forest', 'k=5', rfc_s_kv5[2]],\n",
        "    ['Random forest', 'k=10', rfc_s_kv10[2]],\n",
        "    ['Random forest(sklearn)', 'k=3', rfc_result_3[2]],\n",
        "    ['Random forest(sklearn)', 'k=5', rfc_result_5[2]],\n",
        "    ['Random forest(sklearn)', 'k=10', rfc_result_10[2]],\n",
        "    ['XGBoost', 'k=3', xgb_result_3[2]],\n",
        "    ['XGBoost', 'k=5', xgb_result_5[2]],\n",
        "    ['XGBoost', 'k=10', xgb_result_10[2]],\n",
        "    ['Catboost', 'k=3', cbc_result_3[2]],\n",
        "    ['Catboost', 'k=5', cbc_result_5[2]],\n",
        "    ['Catboost', 'k=10', cbc_result_10[2]],\n",
        "    ['LightGBM', 'k=3', lgbm_result_3[2]],\n",
        "    ['LightGBM', 'k=5', lgbm_result_5[2]],\n",
        "    ['LightGBM', 'k=10', lgbm_result_10[2]]], columns=['Models', 'k fold', 'Recall'])\n",
        "plt.xticks(rotation=-15,size=15)\n",
        "plt.yticks(size=15)\n",
        "sns.set(rc = {'figure.figsize':(25,12)})\n",
        "kf_rec_plot = sns.barplot(x='Models', y='Recall', hue='k fold', data=kfold_rec_df)\n",
        "kf_rec_plot.set_title('Comparison of recall with different k cross-validation',size=25)\n",
        "for p in kf_rec_plot.patches:\n",
        "    kf_rec_plot.annotate(f'\\n{round(p.get_height(),4)}', (p.get_x(), p.get_height()), color='black', size=14)"
      ],
      "metadata": {
        "colab": {
          "base_uri": "https://localhost:8080/",
          "height": 518
        },
        "id": "wDycKKuJuNeU",
        "outputId": "5b937232-2ef6-4252-a4a3-37d6ad38fa3f"
      },
      "execution_count": 240,
      "outputs": [
        {
          "output_type": "display_data",
          "data": {
            "text/plain": [
              "<Figure size 1800x864 with 1 Axes>"
            ],
            "image/png": "[encoded data removed]"
          },
          "metadata": {}
        }
      ]
    },
    {
      "cell_type": "markdown",
      "source": [
        "Conclusion - 5 fold cross-validation and model accuracy"
      ],
      "metadata": {
        "id": "NL0mM4h1mF6e"
      }
    },
    {
      "cell_type": "code",
      "source": [
        "perform_df = pd.DataFrame([\n",
        "    ['Naive Bayer', 'k=1', test_accuracy_nb],\n",
        "    ['Naive Bayer', 'k=5', nb_kv5[0]*0.01],\n",
        "    ['Random forest', 'k=1', test_accuracy_rfc_s],\n",
        "    ['Random forest', 'k=5', rfc_s_kv5[0]*0.01],\n",
        "    ['Random forest(sklearn)', 'k=1', test_accuracy_rfc],\n",
        "    ['Random forest(sklearn)', 'k=5', rfc_result_5[0]*0.01],\n",
        "    ['XGBoost', 'k=1', test_accuracy_xgb],\n",
        "    ['XGBoost', 'k=5', xgb_result_5[0]*0.01],\n",
        "    ['Catboost', 'k=1', test_accuracy_cbc],\n",
        "    ['Catboost', 'k=5', cbc_result_5[0]*0.01],\n",
        "    ['LightGBM', 'k=1', test_accuracy_lgbm],\n",
        "    ['LightGBM', 'k=5', lgbm_result_10[0]*0.01]], columns=['Models', 'k fold', 'Accuracy'])\n",
        "\n",
        "plt.xticks(rotation=-15,size=15)\n",
        "plt.yticks(size=15)\n",
        "sns.set(rc = {'figure.figsize':(15,8)})\n",
        "model_perform_plot = sns.lineplot(x='Models', y='Accuracy', hue='k fold',marker='o', data=perform_df)\n",
        "model_perform_plot.set_title(\"Comparison of model's accuracy with 5 fold cross-validation\",size=25)\n",
        "for a,b in zip(perform_df['Models'],perform_df['Accuracy']):\n",
        "  if b not in [test_accuracy_xgb , test_accuracy_cbc , test_accuracy_lgbm]:\n",
        "    plt.text(a, b, '%.4f' % b, ha='center', va= 'bottom',fontsize=12)\n",
        "  else:\n",
        "    plt.text(a, b-0.05, '%.4f' % b, ha='center', va= 'bottom',fontsize=12)"
      ],
      "metadata": {
        "colab": {
          "base_uri": "https://localhost:8080/",
          "height": 578
        },
        "id": "ERwYKxqxmkV4",
        "outputId": "17591b96-3774-4f38-9e1c-0de64d2bb56b"
      },
      "execution_count": 237,
      "outputs": [
        {
          "output_type": "display_data",
          "data": {
            "text/plain": [
              "<Figure size 1080x576 with 1 Axes>"
            ],
            "image/png": "[encoded data removed]"
          },
          "metadata": {}
        }
      ]
    },
    {
      "cell_type": "markdown",
      "source": [
        "# AUC"
      ],
      "metadata": {
        "id": "P0WDFmDEa7OF"
      }
    },
    {
      "cell_type": "markdown",
      "source": [
        "**Conclusion**"
      ],
      "metadata": {
        "id": "pxuNPAaLbCwG"
      }
    },
    {
      "cell_type": "code",
      "source": [
        "from sklearn import metrics\n",
        "from sklearn.metrics import roc_curve, roc_auc_score, auc"
      ],
      "metadata": {
        "id": "4dBz3ETAYWnO"
      },
      "execution_count": 94,
      "outputs": []
    },
    {
      "cell_type": "code",
      "source": [
        "def AUC(model_name,test_data_y,test_pred_y):  \n",
        "  auc = roc_auc_score(test_data_y,test_pred_y)\n",
        "  print(\"AUC of {} : \".format(model_name),auc)\n",
        "  return auc"
      ],
      "metadata": {
        "id": "u0cWe8CdbOxE"
      },
      "execution_count": 133,
      "outputs": []
    },
    {
      "cell_type": "code",
      "source": [
        "nb_auc = AUC('Naive Bayer',y_test,y_test_nb)\n",
        "rfc_s_auc = AUC('Random Forest ',y_test,y_test_rfc_s)\n",
        "rfc_auc = AUC('Random Forest sklearn',y_test,y_test_rfc)\n",
        "xgb_auc = AUC('XGBoost',y_test,y_test_xgb)\n",
        "cbc_auc = AUC('Catboost',y_test,y_test_cbc)\n",
        "lgbm_auc = AUC('Light GBM',y_test,y_test_lgbm)"
      ],
      "metadata": {
        "colab": {
          "base_uri": "https://localhost:8080/"
        },
        "id": "SzlrmaLfdSVi",
        "outputId": "9eeb9fd1-8d88-4bba-bb20-ac0a78c07b10"
      },
      "execution_count": 134,
      "outputs": [
        {
          "output_type": "stream",
          "name": "stdout",
          "text": [
            "AUC of Naive Bayer :  0.5203886524000991\n",
            "AUC of Random Forest  :  0.503723947738561\n",
            "AUC of Random Forest sklearn :  0.566503603224633\n",
            "AUC of XGBoost :  0.5047725619738959\n",
            "AUC of Catboost :  0.5019005584938391\n",
            "AUC of Light GBM :  0.5031407406068894\n"
          ]
        }
      ]
    },
    {
      "cell_type": "code",
      "source": [
        "auc_df = pd.DataFrame([\n",
        "    ['Naive Bayer', nb_auc],\n",
        "    ['Random forest',rfc_s_auc],\n",
        "    ['Random forest(sklearn)',rfc_auc],\n",
        "    ['XGBoost',xgb_auc],\n",
        "    ['Catboost',cbc_auc],\n",
        "    ['LightGBM',lgbm_auc]], columns=['Models','AUC'])\n",
        "plt.xticks(rotation=-15,size=15)\n",
        "plt.yticks(size=15)\n",
        "sns.set(rc = {'figure.figsize':(15,8)})\n",
        "auc_plot = sns.lineplot(x='Models', y='AUC', data=auc_df)\n",
        "auc_plot.set_title(\"Comparison of model's AUC \",size=25)\n",
        "for a,b in zip(auc_df['Models'],auc_df['AUC']):\n",
        "  plt.text(a, b, '%.4f' % b, ha='center', va= 'bottom',fontsize=12)"
      ],
      "metadata": {
        "colab": {
          "base_uri": "https://localhost:8080/",
          "height": 578
        },
        "id": "1GXRp2efYKiz",
        "outputId": "744d5548-44b7-4639-8da3-60bf01a81077"
      },
      "execution_count": 236,
      "outputs": [
        {
          "output_type": "display_data",
          "data": {
            "text/plain": [
              "<Figure size 1080x576 with 1 Axes>"
            ],
            "image/png": "[encoded data removed]"
          },
          "metadata": {}
        }
      ]
    },
    {
      "cell_type": "markdown",
      "source": [
        "# Recall"
      ],
      "metadata": {
        "id": "JPsdUyn6EY-D"
      }
    },
    {
      "cell_type": "markdown",
      "source": [
        "**1 fold recall**"
      ],
      "metadata": {
        "id": "C_5E4Fw20bHa"
      }
    },
    {
      "cell_type": "code",
      "source": [
        "def Recall(model_name,test_data_y,test_pred_y):  \n",
        "  recall = metrics.recall_score(test_data_y,test_pred_y,average='micro')\n",
        "  print(\"Recall of {} : \".format(model_name),recall)\n",
        "  return recall"
      ],
      "metadata": {
        "id": "kUqiyjqgEdwk"
      },
      "execution_count": 232,
      "outputs": []
    },
    {
      "cell_type": "code",
      "source": [
        "nb_rec = Recall('Naive Bayer',y_test,y_test_nb)\n",
        "rfc_s_rec = Recall('Random Forest ',y_test,y_test_rfc_s)\n",
        "rfc_rec = Recall('Random Forest sklearn',y_test,y_test_rfc)\n",
        "xgb_rec = Recall('XGBoost',y_test,y_test_xgb)\n",
        "cbc_rec = Recall('Catboost',y_test,y_test_cbc)\n",
        "lgbm_rec = Recall('Light GBM',y_test,y_test_lgbm)"
      ],
      "metadata": {
        "colab": {
          "base_uri": "https://localhost:8080/"
        },
        "id": "g-6cnUObFOK-",
        "outputId": "867bd2e4-d590-4f34-9d57-e00fff996edc"
      },
      "execution_count": 233,
      "outputs": [
        {
          "output_type": "stream",
          "name": "stdout",
          "text": [
            "Recall of Naive Bayer :  0.22175446580953465\n",
            "Recall of Random Forest  :  0.9258732506542269\n",
            "Recall of Random Forest sklearn :  0.7857549209238821\n",
            "Recall of XGBoost :  0.9225167823415633\n",
            "Recall of Catboost :  0.9330981909204688\n",
            "Recall of Light GBM :  0.9316190692911595\n"
          ]
        }
      ]
    },
    {
      "cell_type": "markdown",
      "source": [
        "Conclusion - 5 fold cross-validation and model recall"
      ],
      "metadata": {
        "id": "OfKAVjOnxtXC"
      }
    },
    {
      "cell_type": "code",
      "source": [
        "rec_perform_df = pd.DataFrame([\n",
        "    ['Naive Bayer', 'k=1', nb_rec],\n",
        "    ['Naive Bayer', 'k=5', nb_kv5[2]],\n",
        "    ['Random forest', 'k=1', rfc_s_rec],\n",
        "    ['Random forest', 'k=5', rfc_s_kv5[2]],\n",
        "    ['Random forest(sklearn)', 'k=1', rfc_rec],\n",
        "    ['Random forest(sklearn)', 'k=5', rfc_result_5[2]],\n",
        "    ['XGBoost', 'k=1', xgb_rec],\n",
        "    ['XGBoost', 'k=5', xgb_result_5[2]],\n",
        "    ['Catboost', 'k=1', cbc_rec],\n",
        "    ['Catboost', 'k=5', cbc_result_5[2]],\n",
        "    ['LightGBM', 'k=1', lgbm_rec],\n",
        "    ['LightGBM', 'k=5', lgbm_result_10[2]]], columns=['Models', 'k fold', 'Recall'])\n",
        "\n",
        "plt.xticks(rotation=-15,size=15)\n",
        "plt.yticks(size=15)\n",
        "sns.set(rc = {'figure.figsize':(15,8)})\n",
        "model_rec_perform_plot = sns.lineplot(x='Models', y='Recall', hue='k fold',marker='o', data=rec_perform_df)\n",
        "model_rec_perform_plot.set_title(\"Comparison of model's recall with 5 fold cross-validation\",size=25)\n",
        "for a,b in zip(rec_perform_df['Models'],rec_perform_df['Recall']):\n",
        "  plt.text(a, b, '%.4f' % b, ha='center', va= 'bottom',fontsize=10)"
      ],
      "metadata": {
        "colab": {
          "base_uri": "https://localhost:8080/",
          "height": 578
        },
        "id": "2oggs7q_yYrx",
        "outputId": "1fa5503c-c8c5-45cc-b093-8c2f3fbf3026"
      },
      "execution_count": 235,
      "outputs": [
        {
          "output_type": "display_data",
          "data": {
            "text/plain": [
              "<Figure size 1080x576 with 1 Axes>"
            ],
            "image/png": "[encoded data removed]"
          },
          "metadata": {}
        }
      ]
    }
  ]
}